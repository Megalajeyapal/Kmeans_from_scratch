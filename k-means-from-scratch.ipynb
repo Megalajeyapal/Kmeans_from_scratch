{
 "cells": [
  {
   "cell_type": "markdown",
   "id": "5b401fcf",
   "metadata": {
    "papermill": {
     "duration": 0.010298,
     "end_time": "2022-11-22T19:46:57.223037",
     "exception": false,
     "start_time": "2022-11-22T19:46:57.212739",
     "status": "completed"
    },
    "tags": []
   },
   "source": [
    "# **K-Means Clustering**"
   ]
  },
  {
   "cell_type": "markdown",
   "id": "d892ed52",
   "metadata": {
    "papermill": {
     "duration": 0.007387,
     "end_time": "2022-11-22T19:46:57.238815",
     "exception": false,
     "start_time": "2022-11-22T19:46:57.231428",
     "status": "completed"
    },
    "tags": []
   },
   "source": [
    "# Import files"
   ]
  },
  {
   "cell_type": "code",
   "execution_count": 1,
   "id": "e4e6d0ee",
   "metadata": {
    "execution": {
     "iopub.execute_input": "2022-11-22T19:46:57.256714Z",
     "iopub.status.busy": "2022-11-22T19:46:57.256149Z",
     "iopub.status.idle": "2022-11-22T19:46:58.521363Z",
     "shell.execute_reply": "2022-11-22T19:46:58.519773Z"
    },
    "papermill": {
     "duration": 1.278016,
     "end_time": "2022-11-22T19:46:58.524660",
     "exception": false,
     "start_time": "2022-11-22T19:46:57.246644",
     "status": "completed"
    },
    "tags": []
   },
   "outputs": [],
   "source": [
    "import numpy as np\n",
    "import pandas as pd\n",
    "\n",
    "import matplotlib.pyplot as plt\n",
    "import seaborn as sns\n",
    "%matplotlib inline\n",
    "\n",
    "import math\n",
    "import random"
   ]
  },
  {
   "cell_type": "markdown",
   "id": "fb7f6529",
   "metadata": {
    "papermill": {
     "duration": 0.007222,
     "end_time": "2022-11-22T19:46:58.539275",
     "exception": false,
     "start_time": "2022-11-22T19:46:58.532053",
     "status": "completed"
    },
    "tags": []
   },
   "source": [
    "# Algorithm Function definitions"
   ]
  },
  {
   "cell_type": "code",
   "execution_count": 2,
   "id": "b49f5d29",
   "metadata": {
    "execution": {
     "iopub.execute_input": "2022-11-22T19:46:58.556497Z",
     "iopub.status.busy": "2022-11-22T19:46:58.556025Z",
     "iopub.status.idle": "2022-11-22T19:46:58.568614Z",
     "shell.execute_reply": "2022-11-22T19:46:58.567490Z"
    },
    "papermill": {
     "duration": 0.024194,
     "end_time": "2022-11-22T19:46:58.571332",
     "exception": false,
     "start_time": "2022-11-22T19:46:58.547138",
     "status": "completed"
    },
    "tags": []
   },
   "outputs": [],
   "source": [
    "def euclidean_dist (pcentroids, data):\n",
    "    edist = np.zeros((len(pcentroids),len(data)))\n",
    "    for i in range(len(pcentroids)):\n",
    "        euc_dist = []\n",
    "        for point in data:\n",
    "            euc_dist.append(np.sqrt(np.sum(np.square(point-pcentroids[i]))))\n",
    "        edist[i] = euc_dist\n",
    "    return edist\n",
    "\n",
    "def cosine_dist (pcentroids, data):\n",
    "    cdist = np.zeros((len(pcentroids),len(data)))\n",
    "    for i in range(len(pcentroids)):\n",
    "        cos_dist = []\n",
    "        for point in data:\n",
    "            cos_dist.append(1 - (np.dot(pcentroids[i],point)/(np.linalg.norm(pcentroids[i])*np.linalg.norm(point))))\n",
    "        cdist[i] = cos_dist\n",
    "    return cdist\n",
    "def jaccard_dist (pcentroids, data):\n",
    "    jdist = np.zeros((len(pcentroids),len(data)))\n",
    "    for i in range(len(pcentroids)):\n",
    "        jac_dist = []\n",
    "        for point in data:\n",
    "            min_arr = np.minimum(pcentroids[i], point)\n",
    "            max_arr = np.maximum(pcentroids[i], point)\n",
    "            jac_dist.append(1-(np.sum(min_arr)/np.sum(max_arr)))\n",
    "        jdist[i] = jac_dist\n",
    "    return jdist"
   ]
  },
  {
   "cell_type": "code",
   "execution_count": 3,
   "id": "66893a8a",
   "metadata": {
    "execution": {
     "iopub.execute_input": "2022-11-22T19:46:58.588812Z",
     "iopub.status.busy": "2022-11-22T19:46:58.588356Z",
     "iopub.status.idle": "2022-11-22T19:46:58.612785Z",
     "shell.execute_reply": "2022-11-22T19:46:58.611184Z"
    },
    "papermill": {
     "duration": 0.037516,
     "end_time": "2022-11-22T19:46:58.616191",
     "exception": false,
     "start_time": "2022-11-22T19:46:58.578675",
     "status": "completed"
    },
    "tags": []
   },
   "outputs": [],
   "source": [
    "np.random.seed(123)\n",
    "\n",
    "def stop_conditions(iter, centroids, old_centroids):\n",
    "    if np.array_equal(old_centroids, centroids) or iter == 100:\n",
    "        return False\n",
    "    return True\n",
    "\n",
    "def find_labels (dist, centroids, data):\n",
    "    labels = np.array([])\n",
    "    for i in range(len(data)):\n",
    "        index = np.where(dist == np.min(dist[:,i]))\n",
    "        labels = np.append(labels, index[0][0])\n",
    "    return labels\n",
    "\n",
    "def calculate_centroid(data, labels, pcentroids, k, features):\n",
    "    ncentroids = np.zeros((k, features))\n",
    "    temp = [0]*k\n",
    "    for i in range(len(data)):\n",
    "        temp[labels[i]] += 1\n",
    "        ncentroids[labels[i]] += data[i]\n",
    "    for i in range(k):\n",
    "        if temp[i] != 0:\n",
    "            ncentroids[i] = ncentroids[i]/temp[i]\n",
    "        else:\n",
    "            ncentroids[i] = pcentroids[i]\n",
    "    return ncentroids\n",
    "\n",
    "def K_Means (data, k_centroids, dist_method, stop_criteria, flag):\n",
    "    \n",
    "    features = len(data[0])\n",
    "    cur_centroids = np.zeros((k_centroids, features))\n",
    "    for i in range(k_centroids):\n",
    "        r = np.random.randint(0, features+1)\n",
    "        cur_centroids[i, :] = data[r]\n",
    "    \n",
    "    current_iter = 0\n",
    "    pcentroids = np.zeros((k_centroids, features))\n",
    "    labels = None\n",
    "    old_sse = np.Inf\n",
    "    sse = np.Inf\n",
    "    \n",
    "    if (stop_criteria == 1):\n",
    "        while stop_conditions(current_iter, cur_centroids, pcentroids):\n",
    "            pcentroids = cur_centroids\n",
    "            current_iter += 1\n",
    "            if (dist_method == 'euclidean'):\n",
    "                dist = euclidean_dist(pcentroids, data)\n",
    "            elif (dist_method == 'cosine'):\n",
    "                dist = cosine_dist(pcentroids, data)\n",
    "            elif (dist_method == 'jaccard'):\n",
    "                dist = jaccard_dist(pcentroids, data)\n",
    "            else:\n",
    "                print('Wrong distance name')\n",
    "                return\n",
    "            labels = find_labels(dist, pcentroids, data)\n",
    "            cur_centroids = calculate_centroid(data, labels.astype(int), pcentroids, k_centroids, features)\n",
    "    elif (stop_criteria == 2):\n",
    "        while stop_conditions_2(current_iter, cur_centroids, pcentroids, old_sse, sse):\n",
    "            old_sse = sse\n",
    "            pcentroids = cur_centroids\n",
    "            current_iter += 1\n",
    "            if (dist_method == 'euclidean'):\n",
    "                dist = euclidean_dist(pcentroids, data)\n",
    "            elif (dist_method == 'cosine'):\n",
    "                dist = cosine_dist(pcentroids, data)\n",
    "            elif (dist_method == 'jaccard'):\n",
    "                dist = jaccard_dist(pcentroids, data)\n",
    "            else:\n",
    "                print('Wrong distance name')\n",
    "                return\n",
    "            labels = find_labels(dist, pcentroids, data)\n",
    "            cur_centroids = calculate_centroid(data, labels.astype(int), pcentroids, k_centroids, features)\n",
    "            sse = SSE(cur_centroids, labels.astype(int), data)\n",
    "    else:\n",
    "        while stop_conditions_3(current_iter, cur_centroids, pcentroids, old_sse, sse, flag):\n",
    "            old_sse = sse\n",
    "            pcentroids = cur_centroids\n",
    "            current_iter += 1\n",
    "            if (dist_method == 'euclidean'):\n",
    "                dist = euclidean_dist(pcentroids, data)\n",
    "            elif (dist_method == 'cosine'):\n",
    "                dist = cosine_dist(pcentroids, data)\n",
    "            elif (dist_method == 'jaccard'):\n",
    "                dist = jaccard_dist(pcentroids, data)\n",
    "            else:\n",
    "                print('Wrong distance name')\n",
    "                return\n",
    "            labels = find_labels(dist, pcentroids, data)\n",
    "            cur_centroids = calculate_centroid(data, labels.astype(int), pcentroids, k_centroids, features)\n",
    "            sse = SSE(cur_centroids, labels.astype(int), data)\n",
    "    print(dist_method, ' ', 'Iterations total : ', current_iter)\n",
    "    return cur_centroids, labels\n",
    "        \n",
    "            \n"
   ]
  },
  {
   "cell_type": "code",
   "execution_count": 4,
   "id": "2bf6ec9a",
   "metadata": {
    "execution": {
     "iopub.execute_input": "2022-11-22T19:46:58.632999Z",
     "iopub.status.busy": "2022-11-22T19:46:58.632520Z",
     "iopub.status.idle": "2022-11-22T19:46:58.642716Z",
     "shell.execute_reply": "2022-11-22T19:46:58.641368Z"
    },
    "papermill": {
     "duration": 0.02165,
     "end_time": "2022-11-22T19:46:58.645324",
     "exception": false,
     "start_time": "2022-11-22T19:46:58.623674",
     "status": "completed"
    },
    "scrolled": true,
    "tags": []
   },
   "outputs": [],
   "source": [
    "def SSE (centroids, labels, data):\n",
    "    x = 0\n",
    "    for i in range(len(data)):\n",
    "        index = labels[i]\n",
    "        x += np.sum(np.square(data[i]-centroids[index]))\n",
    "    return x\n",
    "       \n",
    "\n",
    "def find_accuracy (centroids, centroid_labels, original_label):\n",
    "    label_map = {}\n",
    "    x = 0\n",
    "    for i in range(len(centroid_labels)):\n",
    "        if centroid_labels[i] in label_map:\n",
    "            label_map[centroid_labels[i]] = np.append(label_map[centroid_labels[i]], original_label['7'][i])\n",
    "        else: \n",
    "            label_map[centroid_labels[i]] = np.array([original_label['7'][i]])\n",
    "    for i in range(len(centroids)):\n",
    "        if i in label_map:\n",
    "            vote = np.bincount(label_map[i]).argmax()\n",
    "            x += np.count_nonzero(label_map[i] == vote)\n",
    "    return x/len(original_label)"
   ]
  },
  {
   "cell_type": "code",
   "execution_count": 5,
   "id": "617511ee",
   "metadata": {
    "execution": {
     "iopub.execute_input": "2022-11-22T19:46:58.663857Z",
     "iopub.status.busy": "2022-11-22T19:46:58.663374Z",
     "iopub.status.idle": "2022-11-22T19:46:58.671963Z",
     "shell.execute_reply": "2022-11-22T19:46:58.670753Z"
    },
    "papermill": {
     "duration": 0.021705,
     "end_time": "2022-11-22T19:46:58.674373",
     "exception": false,
     "start_time": "2022-11-22T19:46:58.652668",
     "status": "completed"
    },
    "tags": []
   },
   "outputs": [],
   "source": [
    "def stop_conditions_2 (iter, centroids, old_centroids, old_sse, sse):\n",
    "    if (iter != 0):\n",
    "        if np.array_equal(old_centroids, centroids) or iter == 100 or sse >= old_sse:\n",
    "            return False\n",
    "    return True\n",
    "\n",
    "def stop_conditions_3 (iter, centroids, old_centroids, old_sse, sse, flag):\n",
    "    if (iter != 0):\n",
    "        if (flag == 1):\n",
    "            if np.array_equal(old_centroids, centroids):\n",
    "                return False\n",
    "        elif (flag == 2):\n",
    "            if (sse >= old_sse):\n",
    "                return False\n",
    "        elif (flag == 3):\n",
    "            if (iter == 100):\n",
    "                return False\n",
    "    return True"
   ]
  },
  {
   "cell_type": "code",
   "execution_count": 6,
   "id": "becfc5ba",
   "metadata": {
    "execution": {
     "iopub.execute_input": "2022-11-22T19:46:58.691702Z",
     "iopub.status.busy": "2022-11-22T19:46:58.691258Z",
     "iopub.status.idle": "2022-11-22T19:46:59.681633Z",
     "shell.execute_reply": "2022-11-22T19:46:59.680195Z"
    },
    "papermill": {
     "duration": 1.003049,
     "end_time": "2022-11-22T19:46:59.684734",
     "exception": false,
     "start_time": "2022-11-22T19:46:58.681685",
     "status": "completed"
    },
    "tags": []
   },
   "outputs": [],
   "source": [
    "data = pd.read_csv('../input/dataset/data.csv')\n",
    "label = pd.read_csv('../input/labeld/label.csv')"
   ]
  },
  {
   "cell_type": "code",
   "execution_count": 7,
   "id": "5fc7ccd6",
   "metadata": {
    "execution": {
     "iopub.execute_input": "2022-11-22T19:46:59.701493Z",
     "iopub.status.busy": "2022-11-22T19:46:59.701042Z",
     "iopub.status.idle": "2022-11-22T19:46:59.735401Z",
     "shell.execute_reply": "2022-11-22T19:46:59.733861Z"
    },
    "papermill": {
     "duration": 0.045994,
     "end_time": "2022-11-22T19:46:59.738448",
     "exception": false,
     "start_time": "2022-11-22T19:46:59.692454",
     "status": "completed"
    },
    "tags": []
   },
   "outputs": [
    {
     "data": {
      "text/html": [
       "<div>\n",
       "<style scoped>\n",
       "    .dataframe tbody tr th:only-of-type {\n",
       "        vertical-align: middle;\n",
       "    }\n",
       "\n",
       "    .dataframe tbody tr th {\n",
       "        vertical-align: top;\n",
       "    }\n",
       "\n",
       "    .dataframe thead th {\n",
       "        text-align: right;\n",
       "    }\n",
       "</style>\n",
       "<table border=\"1\" class=\"dataframe\">\n",
       "  <thead>\n",
       "    <tr style=\"text-align: right;\">\n",
       "      <th></th>\n",
       "      <th>0</th>\n",
       "      <th>0.1</th>\n",
       "      <th>0.2</th>\n",
       "      <th>0.3</th>\n",
       "      <th>0.4</th>\n",
       "      <th>0.5</th>\n",
       "      <th>0.6</th>\n",
       "      <th>0.7</th>\n",
       "      <th>0.8</th>\n",
       "      <th>0.9</th>\n",
       "      <th>...</th>\n",
       "      <th>0.658</th>\n",
       "      <th>0.659</th>\n",
       "      <th>0.660</th>\n",
       "      <th>0.661</th>\n",
       "      <th>0.662</th>\n",
       "      <th>0.663</th>\n",
       "      <th>0.664</th>\n",
       "      <th>0.665</th>\n",
       "      <th>0.666</th>\n",
       "      <th>0.667</th>\n",
       "    </tr>\n",
       "  </thead>\n",
       "  <tbody>\n",
       "    <tr>\n",
       "      <th>0</th>\n",
       "      <td>0</td>\n",
       "      <td>0</td>\n",
       "      <td>0</td>\n",
       "      <td>0</td>\n",
       "      <td>0</td>\n",
       "      <td>0</td>\n",
       "      <td>0</td>\n",
       "      <td>0</td>\n",
       "      <td>0</td>\n",
       "      <td>0</td>\n",
       "      <td>...</td>\n",
       "      <td>0</td>\n",
       "      <td>0</td>\n",
       "      <td>0</td>\n",
       "      <td>0</td>\n",
       "      <td>0</td>\n",
       "      <td>0</td>\n",
       "      <td>0</td>\n",
       "      <td>0</td>\n",
       "      <td>0</td>\n",
       "      <td>0</td>\n",
       "    </tr>\n",
       "    <tr>\n",
       "      <th>1</th>\n",
       "      <td>0</td>\n",
       "      <td>0</td>\n",
       "      <td>0</td>\n",
       "      <td>0</td>\n",
       "      <td>0</td>\n",
       "      <td>0</td>\n",
       "      <td>0</td>\n",
       "      <td>0</td>\n",
       "      <td>0</td>\n",
       "      <td>0</td>\n",
       "      <td>...</td>\n",
       "      <td>0</td>\n",
       "      <td>0</td>\n",
       "      <td>0</td>\n",
       "      <td>0</td>\n",
       "      <td>0</td>\n",
       "      <td>0</td>\n",
       "      <td>0</td>\n",
       "      <td>0</td>\n",
       "      <td>0</td>\n",
       "      <td>0</td>\n",
       "    </tr>\n",
       "    <tr>\n",
       "      <th>2</th>\n",
       "      <td>0</td>\n",
       "      <td>0</td>\n",
       "      <td>0</td>\n",
       "      <td>0</td>\n",
       "      <td>0</td>\n",
       "      <td>0</td>\n",
       "      <td>0</td>\n",
       "      <td>0</td>\n",
       "      <td>0</td>\n",
       "      <td>0</td>\n",
       "      <td>...</td>\n",
       "      <td>0</td>\n",
       "      <td>0</td>\n",
       "      <td>0</td>\n",
       "      <td>0</td>\n",
       "      <td>0</td>\n",
       "      <td>0</td>\n",
       "      <td>0</td>\n",
       "      <td>0</td>\n",
       "      <td>0</td>\n",
       "      <td>0</td>\n",
       "    </tr>\n",
       "    <tr>\n",
       "      <th>3</th>\n",
       "      <td>0</td>\n",
       "      <td>0</td>\n",
       "      <td>0</td>\n",
       "      <td>0</td>\n",
       "      <td>0</td>\n",
       "      <td>0</td>\n",
       "      <td>0</td>\n",
       "      <td>0</td>\n",
       "      <td>0</td>\n",
       "      <td>0</td>\n",
       "      <td>...</td>\n",
       "      <td>0</td>\n",
       "      <td>0</td>\n",
       "      <td>0</td>\n",
       "      <td>0</td>\n",
       "      <td>0</td>\n",
       "      <td>0</td>\n",
       "      <td>0</td>\n",
       "      <td>0</td>\n",
       "      <td>0</td>\n",
       "      <td>0</td>\n",
       "    </tr>\n",
       "    <tr>\n",
       "      <th>4</th>\n",
       "      <td>0</td>\n",
       "      <td>0</td>\n",
       "      <td>0</td>\n",
       "      <td>0</td>\n",
       "      <td>0</td>\n",
       "      <td>0</td>\n",
       "      <td>0</td>\n",
       "      <td>0</td>\n",
       "      <td>0</td>\n",
       "      <td>0</td>\n",
       "      <td>...</td>\n",
       "      <td>0</td>\n",
       "      <td>0</td>\n",
       "      <td>0</td>\n",
       "      <td>0</td>\n",
       "      <td>0</td>\n",
       "      <td>0</td>\n",
       "      <td>0</td>\n",
       "      <td>0</td>\n",
       "      <td>0</td>\n",
       "      <td>0</td>\n",
       "    </tr>\n",
       "    <tr>\n",
       "      <th>5</th>\n",
       "      <td>0</td>\n",
       "      <td>0</td>\n",
       "      <td>0</td>\n",
       "      <td>0</td>\n",
       "      <td>0</td>\n",
       "      <td>0</td>\n",
       "      <td>0</td>\n",
       "      <td>0</td>\n",
       "      <td>0</td>\n",
       "      <td>0</td>\n",
       "      <td>...</td>\n",
       "      <td>0</td>\n",
       "      <td>0</td>\n",
       "      <td>0</td>\n",
       "      <td>0</td>\n",
       "      <td>0</td>\n",
       "      <td>0</td>\n",
       "      <td>0</td>\n",
       "      <td>0</td>\n",
       "      <td>0</td>\n",
       "      <td>0</td>\n",
       "    </tr>\n",
       "    <tr>\n",
       "      <th>6</th>\n",
       "      <td>0</td>\n",
       "      <td>0</td>\n",
       "      <td>0</td>\n",
       "      <td>0</td>\n",
       "      <td>0</td>\n",
       "      <td>0</td>\n",
       "      <td>0</td>\n",
       "      <td>0</td>\n",
       "      <td>0</td>\n",
       "      <td>0</td>\n",
       "      <td>...</td>\n",
       "      <td>0</td>\n",
       "      <td>0</td>\n",
       "      <td>0</td>\n",
       "      <td>0</td>\n",
       "      <td>0</td>\n",
       "      <td>0</td>\n",
       "      <td>0</td>\n",
       "      <td>0</td>\n",
       "      <td>0</td>\n",
       "      <td>0</td>\n",
       "    </tr>\n",
       "    <tr>\n",
       "      <th>7</th>\n",
       "      <td>0</td>\n",
       "      <td>0</td>\n",
       "      <td>0</td>\n",
       "      <td>0</td>\n",
       "      <td>0</td>\n",
       "      <td>0</td>\n",
       "      <td>0</td>\n",
       "      <td>0</td>\n",
       "      <td>0</td>\n",
       "      <td>0</td>\n",
       "      <td>...</td>\n",
       "      <td>0</td>\n",
       "      <td>0</td>\n",
       "      <td>0</td>\n",
       "      <td>0</td>\n",
       "      <td>0</td>\n",
       "      <td>0</td>\n",
       "      <td>0</td>\n",
       "      <td>0</td>\n",
       "      <td>0</td>\n",
       "      <td>0</td>\n",
       "    </tr>\n",
       "    <tr>\n",
       "      <th>8</th>\n",
       "      <td>0</td>\n",
       "      <td>0</td>\n",
       "      <td>0</td>\n",
       "      <td>0</td>\n",
       "      <td>0</td>\n",
       "      <td>0</td>\n",
       "      <td>0</td>\n",
       "      <td>0</td>\n",
       "      <td>0</td>\n",
       "      <td>0</td>\n",
       "      <td>...</td>\n",
       "      <td>0</td>\n",
       "      <td>0</td>\n",
       "      <td>0</td>\n",
       "      <td>0</td>\n",
       "      <td>0</td>\n",
       "      <td>0</td>\n",
       "      <td>0</td>\n",
       "      <td>0</td>\n",
       "      <td>0</td>\n",
       "      <td>0</td>\n",
       "    </tr>\n",
       "    <tr>\n",
       "      <th>9</th>\n",
       "      <td>0</td>\n",
       "      <td>0</td>\n",
       "      <td>0</td>\n",
       "      <td>0</td>\n",
       "      <td>0</td>\n",
       "      <td>0</td>\n",
       "      <td>0</td>\n",
       "      <td>0</td>\n",
       "      <td>0</td>\n",
       "      <td>0</td>\n",
       "      <td>...</td>\n",
       "      <td>0</td>\n",
       "      <td>0</td>\n",
       "      <td>0</td>\n",
       "      <td>0</td>\n",
       "      <td>0</td>\n",
       "      <td>0</td>\n",
       "      <td>0</td>\n",
       "      <td>0</td>\n",
       "      <td>0</td>\n",
       "      <td>0</td>\n",
       "    </tr>\n",
       "  </tbody>\n",
       "</table>\n",
       "<p>10 rows × 784 columns</p>\n",
       "</div>"
      ],
      "text/plain": [
       "   0  0.1  0.2  0.3  0.4  0.5  0.6  0.7  0.8  0.9  ...  0.658  0.659  0.660  \\\n",
       "0  0    0    0    0    0    0    0    0    0    0  ...      0      0      0   \n",
       "1  0    0    0    0    0    0    0    0    0    0  ...      0      0      0   \n",
       "2  0    0    0    0    0    0    0    0    0    0  ...      0      0      0   \n",
       "3  0    0    0    0    0    0    0    0    0    0  ...      0      0      0   \n",
       "4  0    0    0    0    0    0    0    0    0    0  ...      0      0      0   \n",
       "5  0    0    0    0    0    0    0    0    0    0  ...      0      0      0   \n",
       "6  0    0    0    0    0    0    0    0    0    0  ...      0      0      0   \n",
       "7  0    0    0    0    0    0    0    0    0    0  ...      0      0      0   \n",
       "8  0    0    0    0    0    0    0    0    0    0  ...      0      0      0   \n",
       "9  0    0    0    0    0    0    0    0    0    0  ...      0      0      0   \n",
       "\n",
       "   0.661  0.662  0.663  0.664  0.665  0.666  0.667  \n",
       "0      0      0      0      0      0      0      0  \n",
       "1      0      0      0      0      0      0      0  \n",
       "2      0      0      0      0      0      0      0  \n",
       "3      0      0      0      0      0      0      0  \n",
       "4      0      0      0      0      0      0      0  \n",
       "5      0      0      0      0      0      0      0  \n",
       "6      0      0      0      0      0      0      0  \n",
       "7      0      0      0      0      0      0      0  \n",
       "8      0      0      0      0      0      0      0  \n",
       "9      0      0      0      0      0      0      0  \n",
       "\n",
       "[10 rows x 784 columns]"
      ]
     },
     "execution_count": 7,
     "metadata": {},
     "output_type": "execute_result"
    }
   ],
   "source": [
    "data.head(10)"
   ]
  },
  {
   "cell_type": "code",
   "execution_count": 8,
   "id": "bddc147e",
   "metadata": {
    "execution": {
     "iopub.execute_input": "2022-11-22T19:46:59.756377Z",
     "iopub.status.busy": "2022-11-22T19:46:59.755902Z",
     "iopub.status.idle": "2022-11-22T19:46:59.766552Z",
     "shell.execute_reply": "2022-11-22T19:46:59.765359Z"
    },
    "papermill": {
     "duration": 0.022447,
     "end_time": "2022-11-22T19:46:59.768939",
     "exception": false,
     "start_time": "2022-11-22T19:46:59.746492",
     "status": "completed"
    },
    "tags": []
   },
   "outputs": [
    {
     "data": {
      "text/html": [
       "<div>\n",
       "<style scoped>\n",
       "    .dataframe tbody tr th:only-of-type {\n",
       "        vertical-align: middle;\n",
       "    }\n",
       "\n",
       "    .dataframe tbody tr th {\n",
       "        vertical-align: top;\n",
       "    }\n",
       "\n",
       "    .dataframe thead th {\n",
       "        text-align: right;\n",
       "    }\n",
       "</style>\n",
       "<table border=\"1\" class=\"dataframe\">\n",
       "  <thead>\n",
       "    <tr style=\"text-align: right;\">\n",
       "      <th></th>\n",
       "      <th>7</th>\n",
       "    </tr>\n",
       "  </thead>\n",
       "  <tbody>\n",
       "    <tr>\n",
       "      <th>0</th>\n",
       "      <td>2</td>\n",
       "    </tr>\n",
       "    <tr>\n",
       "      <th>1</th>\n",
       "      <td>1</td>\n",
       "    </tr>\n",
       "    <tr>\n",
       "      <th>2</th>\n",
       "      <td>0</td>\n",
       "    </tr>\n",
       "    <tr>\n",
       "      <th>3</th>\n",
       "      <td>4</td>\n",
       "    </tr>\n",
       "    <tr>\n",
       "      <th>4</th>\n",
       "      <td>1</td>\n",
       "    </tr>\n",
       "    <tr>\n",
       "      <th>5</th>\n",
       "      <td>4</td>\n",
       "    </tr>\n",
       "    <tr>\n",
       "      <th>6</th>\n",
       "      <td>9</td>\n",
       "    </tr>\n",
       "    <tr>\n",
       "      <th>7</th>\n",
       "      <td>5</td>\n",
       "    </tr>\n",
       "    <tr>\n",
       "      <th>8</th>\n",
       "      <td>9</td>\n",
       "    </tr>\n",
       "    <tr>\n",
       "      <th>9</th>\n",
       "      <td>0</td>\n",
       "    </tr>\n",
       "  </tbody>\n",
       "</table>\n",
       "</div>"
      ],
      "text/plain": [
       "   7\n",
       "0  2\n",
       "1  1\n",
       "2  0\n",
       "3  4\n",
       "4  1\n",
       "5  4\n",
       "6  9\n",
       "7  5\n",
       "8  9\n",
       "9  0"
      ]
     },
     "execution_count": 8,
     "metadata": {},
     "output_type": "execute_result"
    }
   ],
   "source": [
    "label.head(10)"
   ]
  },
  {
   "cell_type": "code",
   "execution_count": 9,
   "id": "deb2275d",
   "metadata": {
    "execution": {
     "iopub.execute_input": "2022-11-22T19:46:59.786569Z",
     "iopub.status.busy": "2022-11-22T19:46:59.786142Z",
     "iopub.status.idle": "2022-11-22T19:46:59.793346Z",
     "shell.execute_reply": "2022-11-22T19:46:59.792061Z"
    },
    "papermill": {
     "duration": 0.019606,
     "end_time": "2022-11-22T19:46:59.796458",
     "exception": false,
     "start_time": "2022-11-22T19:46:59.776852",
     "status": "completed"
    },
    "tags": []
   },
   "outputs": [
    {
     "data": {
      "text/plain": [
       "(9999, 784)"
      ]
     },
     "execution_count": 9,
     "metadata": {},
     "output_type": "execute_result"
    }
   ],
   "source": [
    "data.shape"
   ]
  },
  {
   "cell_type": "code",
   "execution_count": 10,
   "id": "a1d07e08",
   "metadata": {
    "execution": {
     "iopub.execute_input": "2022-11-22T19:46:59.815065Z",
     "iopub.status.busy": "2022-11-22T19:46:59.814660Z",
     "iopub.status.idle": "2022-11-22T19:46:59.821025Z",
     "shell.execute_reply": "2022-11-22T19:46:59.820211Z"
    },
    "papermill": {
     "duration": 0.018117,
     "end_time": "2022-11-22T19:46:59.822984",
     "exception": false,
     "start_time": "2022-11-22T19:46:59.804867",
     "status": "completed"
    },
    "tags": []
   },
   "outputs": [
    {
     "data": {
      "text/plain": [
       "(9999, 1)"
      ]
     },
     "execution_count": 10,
     "metadata": {},
     "output_type": "execute_result"
    }
   ],
   "source": [
    "label.shape"
   ]
  },
  {
   "cell_type": "code",
   "execution_count": 11,
   "id": "716d4ae9",
   "metadata": {
    "execution": {
     "iopub.execute_input": "2022-11-22T19:46:59.840956Z",
     "iopub.status.busy": "2022-11-22T19:46:59.840520Z",
     "iopub.status.idle": "2022-11-22T19:47:01.652247Z",
     "shell.execute_reply": "2022-11-22T19:47:01.651015Z"
    },
    "papermill": {
     "duration": 1.824053,
     "end_time": "2022-11-22T19:47:01.655126",
     "exception": false,
     "start_time": "2022-11-22T19:46:59.831073",
     "status": "completed"
    },
    "tags": []
   },
   "outputs": [
    {
     "data": {
      "text/html": [
       "<div>\n",
       "<style scoped>\n",
       "    .dataframe tbody tr th:only-of-type {\n",
       "        vertical-align: middle;\n",
       "    }\n",
       "\n",
       "    .dataframe tbody tr th {\n",
       "        vertical-align: top;\n",
       "    }\n",
       "\n",
       "    .dataframe thead th {\n",
       "        text-align: right;\n",
       "    }\n",
       "</style>\n",
       "<table border=\"1\" class=\"dataframe\">\n",
       "  <thead>\n",
       "    <tr style=\"text-align: right;\">\n",
       "      <th></th>\n",
       "      <th>0</th>\n",
       "      <th>0.1</th>\n",
       "      <th>0.2</th>\n",
       "      <th>0.3</th>\n",
       "      <th>0.4</th>\n",
       "      <th>0.5</th>\n",
       "      <th>0.6</th>\n",
       "      <th>0.7</th>\n",
       "      <th>0.8</th>\n",
       "      <th>0.9</th>\n",
       "      <th>...</th>\n",
       "      <th>0.658</th>\n",
       "      <th>0.659</th>\n",
       "      <th>0.660</th>\n",
       "      <th>0.661</th>\n",
       "      <th>0.662</th>\n",
       "      <th>0.663</th>\n",
       "      <th>0.664</th>\n",
       "      <th>0.665</th>\n",
       "      <th>0.666</th>\n",
       "      <th>0.667</th>\n",
       "    </tr>\n",
       "  </thead>\n",
       "  <tbody>\n",
       "    <tr>\n",
       "      <th>count</th>\n",
       "      <td>9999.0</td>\n",
       "      <td>9999.0</td>\n",
       "      <td>9999.0</td>\n",
       "      <td>9999.0</td>\n",
       "      <td>9999.0</td>\n",
       "      <td>9999.0</td>\n",
       "      <td>9999.0</td>\n",
       "      <td>9999.0</td>\n",
       "      <td>9999.0</td>\n",
       "      <td>9999.0</td>\n",
       "      <td>...</td>\n",
       "      <td>9999.000000</td>\n",
       "      <td>9999.000000</td>\n",
       "      <td>9999.000000</td>\n",
       "      <td>9999.000000</td>\n",
       "      <td>9999.0</td>\n",
       "      <td>9999.0</td>\n",
       "      <td>9999.0</td>\n",
       "      <td>9999.0</td>\n",
       "      <td>9999.0</td>\n",
       "      <td>9999.0</td>\n",
       "    </tr>\n",
       "    <tr>\n",
       "      <th>mean</th>\n",
       "      <td>0.0</td>\n",
       "      <td>0.0</td>\n",
       "      <td>0.0</td>\n",
       "      <td>0.0</td>\n",
       "      <td>0.0</td>\n",
       "      <td>0.0</td>\n",
       "      <td>0.0</td>\n",
       "      <td>0.0</td>\n",
       "      <td>0.0</td>\n",
       "      <td>0.0</td>\n",
       "      <td>...</td>\n",
       "      <td>0.179318</td>\n",
       "      <td>0.163616</td>\n",
       "      <td>0.052605</td>\n",
       "      <td>0.000600</td>\n",
       "      <td>0.0</td>\n",
       "      <td>0.0</td>\n",
       "      <td>0.0</td>\n",
       "      <td>0.0</td>\n",
       "      <td>0.0</td>\n",
       "      <td>0.0</td>\n",
       "    </tr>\n",
       "    <tr>\n",
       "      <th>std</th>\n",
       "      <td>0.0</td>\n",
       "      <td>0.0</td>\n",
       "      <td>0.0</td>\n",
       "      <td>0.0</td>\n",
       "      <td>0.0</td>\n",
       "      <td>0.0</td>\n",
       "      <td>0.0</td>\n",
       "      <td>0.0</td>\n",
       "      <td>0.0</td>\n",
       "      <td>0.0</td>\n",
       "      <td>...</td>\n",
       "      <td>5.674433</td>\n",
       "      <td>5.736359</td>\n",
       "      <td>2.420125</td>\n",
       "      <td>0.060003</td>\n",
       "      <td>0.0</td>\n",
       "      <td>0.0</td>\n",
       "      <td>0.0</td>\n",
       "      <td>0.0</td>\n",
       "      <td>0.0</td>\n",
       "      <td>0.0</td>\n",
       "    </tr>\n",
       "    <tr>\n",
       "      <th>min</th>\n",
       "      <td>0.0</td>\n",
       "      <td>0.0</td>\n",
       "      <td>0.0</td>\n",
       "      <td>0.0</td>\n",
       "      <td>0.0</td>\n",
       "      <td>0.0</td>\n",
       "      <td>0.0</td>\n",
       "      <td>0.0</td>\n",
       "      <td>0.0</td>\n",
       "      <td>0.0</td>\n",
       "      <td>...</td>\n",
       "      <td>0.000000</td>\n",
       "      <td>0.000000</td>\n",
       "      <td>0.000000</td>\n",
       "      <td>0.000000</td>\n",
       "      <td>0.0</td>\n",
       "      <td>0.0</td>\n",
       "      <td>0.0</td>\n",
       "      <td>0.0</td>\n",
       "      <td>0.0</td>\n",
       "      <td>0.0</td>\n",
       "    </tr>\n",
       "    <tr>\n",
       "      <th>25%</th>\n",
       "      <td>0.0</td>\n",
       "      <td>0.0</td>\n",
       "      <td>0.0</td>\n",
       "      <td>0.0</td>\n",
       "      <td>0.0</td>\n",
       "      <td>0.0</td>\n",
       "      <td>0.0</td>\n",
       "      <td>0.0</td>\n",
       "      <td>0.0</td>\n",
       "      <td>0.0</td>\n",
       "      <td>...</td>\n",
       "      <td>0.000000</td>\n",
       "      <td>0.000000</td>\n",
       "      <td>0.000000</td>\n",
       "      <td>0.000000</td>\n",
       "      <td>0.0</td>\n",
       "      <td>0.0</td>\n",
       "      <td>0.0</td>\n",
       "      <td>0.0</td>\n",
       "      <td>0.0</td>\n",
       "      <td>0.0</td>\n",
       "    </tr>\n",
       "    <tr>\n",
       "      <th>50%</th>\n",
       "      <td>0.0</td>\n",
       "      <td>0.0</td>\n",
       "      <td>0.0</td>\n",
       "      <td>0.0</td>\n",
       "      <td>0.0</td>\n",
       "      <td>0.0</td>\n",
       "      <td>0.0</td>\n",
       "      <td>0.0</td>\n",
       "      <td>0.0</td>\n",
       "      <td>0.0</td>\n",
       "      <td>...</td>\n",
       "      <td>0.000000</td>\n",
       "      <td>0.000000</td>\n",
       "      <td>0.000000</td>\n",
       "      <td>0.000000</td>\n",
       "      <td>0.0</td>\n",
       "      <td>0.0</td>\n",
       "      <td>0.0</td>\n",
       "      <td>0.0</td>\n",
       "      <td>0.0</td>\n",
       "      <td>0.0</td>\n",
       "    </tr>\n",
       "    <tr>\n",
       "      <th>75%</th>\n",
       "      <td>0.0</td>\n",
       "      <td>0.0</td>\n",
       "      <td>0.0</td>\n",
       "      <td>0.0</td>\n",
       "      <td>0.0</td>\n",
       "      <td>0.0</td>\n",
       "      <td>0.0</td>\n",
       "      <td>0.0</td>\n",
       "      <td>0.0</td>\n",
       "      <td>0.0</td>\n",
       "      <td>...</td>\n",
       "      <td>0.000000</td>\n",
       "      <td>0.000000</td>\n",
       "      <td>0.000000</td>\n",
       "      <td>0.000000</td>\n",
       "      <td>0.0</td>\n",
       "      <td>0.0</td>\n",
       "      <td>0.0</td>\n",
       "      <td>0.0</td>\n",
       "      <td>0.0</td>\n",
       "      <td>0.0</td>\n",
       "    </tr>\n",
       "    <tr>\n",
       "      <th>max</th>\n",
       "      <td>0.0</td>\n",
       "      <td>0.0</td>\n",
       "      <td>0.0</td>\n",
       "      <td>0.0</td>\n",
       "      <td>0.0</td>\n",
       "      <td>0.0</td>\n",
       "      <td>0.0</td>\n",
       "      <td>0.0</td>\n",
       "      <td>0.0</td>\n",
       "      <td>0.0</td>\n",
       "      <td>...</td>\n",
       "      <td>253.000000</td>\n",
       "      <td>253.000000</td>\n",
       "      <td>156.000000</td>\n",
       "      <td>6.000000</td>\n",
       "      <td>0.0</td>\n",
       "      <td>0.0</td>\n",
       "      <td>0.0</td>\n",
       "      <td>0.0</td>\n",
       "      <td>0.0</td>\n",
       "      <td>0.0</td>\n",
       "    </tr>\n",
       "  </tbody>\n",
       "</table>\n",
       "<p>8 rows × 784 columns</p>\n",
       "</div>"
      ],
      "text/plain": [
       "            0     0.1     0.2     0.3     0.4     0.5     0.6     0.7     0.8  \\\n",
       "count  9999.0  9999.0  9999.0  9999.0  9999.0  9999.0  9999.0  9999.0  9999.0   \n",
       "mean      0.0     0.0     0.0     0.0     0.0     0.0     0.0     0.0     0.0   \n",
       "std       0.0     0.0     0.0     0.0     0.0     0.0     0.0     0.0     0.0   \n",
       "min       0.0     0.0     0.0     0.0     0.0     0.0     0.0     0.0     0.0   \n",
       "25%       0.0     0.0     0.0     0.0     0.0     0.0     0.0     0.0     0.0   \n",
       "50%       0.0     0.0     0.0     0.0     0.0     0.0     0.0     0.0     0.0   \n",
       "75%       0.0     0.0     0.0     0.0     0.0     0.0     0.0     0.0     0.0   \n",
       "max       0.0     0.0     0.0     0.0     0.0     0.0     0.0     0.0     0.0   \n",
       "\n",
       "          0.9  ...        0.658        0.659        0.660        0.661  \\\n",
       "count  9999.0  ...  9999.000000  9999.000000  9999.000000  9999.000000   \n",
       "mean      0.0  ...     0.179318     0.163616     0.052605     0.000600   \n",
       "std       0.0  ...     5.674433     5.736359     2.420125     0.060003   \n",
       "min       0.0  ...     0.000000     0.000000     0.000000     0.000000   \n",
       "25%       0.0  ...     0.000000     0.000000     0.000000     0.000000   \n",
       "50%       0.0  ...     0.000000     0.000000     0.000000     0.000000   \n",
       "75%       0.0  ...     0.000000     0.000000     0.000000     0.000000   \n",
       "max       0.0  ...   253.000000   253.000000   156.000000     6.000000   \n",
       "\n",
       "        0.662   0.663   0.664   0.665   0.666   0.667  \n",
       "count  9999.0  9999.0  9999.0  9999.0  9999.0  9999.0  \n",
       "mean      0.0     0.0     0.0     0.0     0.0     0.0  \n",
       "std       0.0     0.0     0.0     0.0     0.0     0.0  \n",
       "min       0.0     0.0     0.0     0.0     0.0     0.0  \n",
       "25%       0.0     0.0     0.0     0.0     0.0     0.0  \n",
       "50%       0.0     0.0     0.0     0.0     0.0     0.0  \n",
       "75%       0.0     0.0     0.0     0.0     0.0     0.0  \n",
       "max       0.0     0.0     0.0     0.0     0.0     0.0  \n",
       "\n",
       "[8 rows x 784 columns]"
      ]
     },
     "execution_count": 11,
     "metadata": {},
     "output_type": "execute_result"
    }
   ],
   "source": [
    "data.describe()"
   ]
  },
  {
   "cell_type": "code",
   "execution_count": 12,
   "id": "cc76aa0a",
   "metadata": {
    "execution": {
     "iopub.execute_input": "2022-11-22T19:47:01.674869Z",
     "iopub.status.busy": "2022-11-22T19:47:01.674410Z",
     "iopub.status.idle": "2022-11-22T19:47:01.694519Z",
     "shell.execute_reply": "2022-11-22T19:47:01.693255Z"
    },
    "papermill": {
     "duration": 0.032874,
     "end_time": "2022-11-22T19:47:01.697131",
     "exception": false,
     "start_time": "2022-11-22T19:47:01.664257",
     "status": "completed"
    },
    "tags": []
   },
   "outputs": [
    {
     "data": {
      "text/html": [
       "<div>\n",
       "<style scoped>\n",
       "    .dataframe tbody tr th:only-of-type {\n",
       "        vertical-align: middle;\n",
       "    }\n",
       "\n",
       "    .dataframe tbody tr th {\n",
       "        vertical-align: top;\n",
       "    }\n",
       "\n",
       "    .dataframe thead th {\n",
       "        text-align: right;\n",
       "    }\n",
       "</style>\n",
       "<table border=\"1\" class=\"dataframe\">\n",
       "  <thead>\n",
       "    <tr style=\"text-align: right;\">\n",
       "      <th></th>\n",
       "      <th>7</th>\n",
       "    </tr>\n",
       "  </thead>\n",
       "  <tbody>\n",
       "    <tr>\n",
       "      <th>count</th>\n",
       "      <td>9999.000000</td>\n",
       "    </tr>\n",
       "    <tr>\n",
       "      <th>mean</th>\n",
       "      <td>4.443144</td>\n",
       "    </tr>\n",
       "    <tr>\n",
       "      <th>std</th>\n",
       "      <td>2.895897</td>\n",
       "    </tr>\n",
       "    <tr>\n",
       "      <th>min</th>\n",
       "      <td>0.000000</td>\n",
       "    </tr>\n",
       "    <tr>\n",
       "      <th>25%</th>\n",
       "      <td>2.000000</td>\n",
       "    </tr>\n",
       "    <tr>\n",
       "      <th>50%</th>\n",
       "      <td>4.000000</td>\n",
       "    </tr>\n",
       "    <tr>\n",
       "      <th>75%</th>\n",
       "      <td>7.000000</td>\n",
       "    </tr>\n",
       "    <tr>\n",
       "      <th>max</th>\n",
       "      <td>9.000000</td>\n",
       "    </tr>\n",
       "  </tbody>\n",
       "</table>\n",
       "</div>"
      ],
      "text/plain": [
       "                 7\n",
       "count  9999.000000\n",
       "mean      4.443144\n",
       "std       2.895897\n",
       "min       0.000000\n",
       "25%       2.000000\n",
       "50%       4.000000\n",
       "75%       7.000000\n",
       "max       9.000000"
      ]
     },
     "execution_count": 12,
     "metadata": {},
     "output_type": "execute_result"
    }
   ],
   "source": [
    "label.describe()"
   ]
  },
  {
   "cell_type": "code",
   "execution_count": 13,
   "id": "ea13ddcc",
   "metadata": {
    "execution": {
     "iopub.execute_input": "2022-11-22T19:47:01.716638Z",
     "iopub.status.busy": "2022-11-22T19:47:01.716187Z",
     "iopub.status.idle": "2022-11-22T20:04:31.245098Z",
     "shell.execute_reply": "2022-11-22T20:04:31.243831Z"
    },
    "papermill": {
     "duration": 1049.551027,
     "end_time": "2022-11-22T20:04:31.257091",
     "exception": false,
     "start_time": "2022-11-22T19:47:01.706064",
     "status": "completed"
    },
    "tags": []
   },
   "outputs": [
    {
     "name": "stdout",
     "output_type": "stream",
     "text": [
      "euclidean   Iterations total :  71\n",
      "cosine   Iterations total :  85\n",
      "jaccard   Iterations total :  45\n"
     ]
    }
   ],
   "source": [
    "\n",
    "E_centroids, E_labels = K_Means(data.to_numpy(), 10, 'euclidean', 1, 1)\n",
    "C_centroids, C_labels = K_Means(data.to_numpy(), 10, 'cosine', 1, 1)\n",
    "J_centroids, J_labels = K_Means(data.to_numpy(), 10, 'jaccard', 1, 1)"
   ]
  },
  {
   "cell_type": "code",
   "execution_count": 14,
   "id": "07158237",
   "metadata": {
    "execution": {
     "iopub.execute_input": "2022-11-22T20:04:31.277520Z",
     "iopub.status.busy": "2022-11-22T20:04:31.277054Z",
     "iopub.status.idle": "2022-11-22T20:04:31.753786Z",
     "shell.execute_reply": "2022-11-22T20:04:31.752203Z"
    },
    "papermill": {
     "duration": 0.49067,
     "end_time": "2022-11-22T20:04:31.756643",
     "exception": false,
     "start_time": "2022-11-22T20:04:31.265973",
     "status": "completed"
    },
    "scrolled": true,
    "tags": []
   },
   "outputs": [
    {
     "name": "stdout",
     "output_type": "stream",
     "text": [
      "SSE of Euclidean K-Means:  25318301268.749744\n",
      "SSE of Cosine K-Means:  25411581642.345028\n",
      "SSE of Jaccard K-Means:  25483177207.831245\n"
     ]
    }
   ],
   "source": [
    "E_SSE = SSE (E_centroids, E_labels.astype(int), data.to_numpy())\n",
    "C_SSE = SSE (C_centroids, C_labels.astype(int), data.to_numpy())\n",
    "J_SSE = SSE (J_centroids, J_labels.astype(int), data.to_numpy())\n",
    "\n",
    "print('SSE of Euclidean K-Means: ', E_SSE)\n",
    "print('SSE of Cosine K-Means: ', C_SSE)\n",
    "print('SSE of Jaccard K-Means: ', J_SSE)\n",
    "        "
   ]
  },
  {
   "cell_type": "code",
   "execution_count": 15,
   "id": "1569675e",
   "metadata": {
    "execution": {
     "iopub.execute_input": "2022-11-22T20:04:31.776981Z",
     "iopub.status.busy": "2022-11-22T20:04:31.776515Z",
     "iopub.status.idle": "2022-11-22T20:04:31.794871Z",
     "shell.execute_reply": "2022-11-22T20:04:31.793396Z"
    },
    "papermill": {
     "duration": 0.031648,
     "end_time": "2022-11-22T20:04:31.797664",
     "exception": false,
     "start_time": "2022-11-22T20:04:31.766016",
     "status": "completed"
    },
    "tags": []
   },
   "outputs": [
    {
     "data": {
      "text/html": [
       "<div>\n",
       "<style scoped>\n",
       "    .dataframe tbody tr th:only-of-type {\n",
       "        vertical-align: middle;\n",
       "    }\n",
       "\n",
       "    .dataframe tbody tr th {\n",
       "        vertical-align: top;\n",
       "    }\n",
       "\n",
       "    .dataframe thead th {\n",
       "        text-align: right;\n",
       "    }\n",
       "</style>\n",
       "<table border=\"1\" class=\"dataframe\">\n",
       "  <thead>\n",
       "    <tr style=\"text-align: right;\">\n",
       "      <th></th>\n",
       "      <th>Similarity metrics</th>\n",
       "      <th>SSE</th>\n",
       "    </tr>\n",
       "  </thead>\n",
       "  <tbody>\n",
       "    <tr>\n",
       "      <th>0</th>\n",
       "      <td>Euclidean K-Means</td>\n",
       "      <td>2.531830e+10</td>\n",
       "    </tr>\n",
       "    <tr>\n",
       "      <th>1</th>\n",
       "      <td>Cosine K-Means</td>\n",
       "      <td>2.541158e+10</td>\n",
       "    </tr>\n",
       "    <tr>\n",
       "      <th>2</th>\n",
       "      <td>Jaccard K-Means</td>\n",
       "      <td>2.548318e+10</td>\n",
       "    </tr>\n",
       "  </tbody>\n",
       "</table>\n",
       "</div>"
      ],
      "text/plain": [
       "  Similarity metrics           SSE\n",
       "0  Euclidean K-Means  2.531830e+10\n",
       "1     Cosine K-Means  2.541158e+10\n",
       "2    Jaccard K-Means  2.548318e+10"
      ]
     },
     "execution_count": 15,
     "metadata": {},
     "output_type": "execute_result"
    }
   ],
   "source": [
    "SSE_table = pd.DataFrame({\n",
    "    'Similarity metrics': ['Euclidean K-Means', 'Cosine K-Means', 'Jaccard K-Means'],\n",
    "    'SSE': [E_SSE, C_SSE, J_SSE],\n",
    "})\n",
    "SSE_table.sort_values(by='SSE', ascending=True)"
   ]
  },
  {
   "cell_type": "markdown",
   "id": "bd300424",
   "metadata": {
    "papermill": {
     "duration": 0.009015,
     "end_time": "2022-11-22T20:04:31.816089",
     "exception": false,
     "start_time": "2022-11-22T20:04:31.807074",
     "status": "completed"
    },
    "tags": []
   },
   "source": [
    "\n",
    "## Comparing Accuracies"
   ]
  },
  {
   "cell_type": "code",
   "execution_count": 16,
   "id": "d98f9cbd",
   "metadata": {
    "execution": {
     "iopub.execute_input": "2022-11-22T20:04:31.837321Z",
     "iopub.status.busy": "2022-11-22T20:04:31.836745Z",
     "iopub.status.idle": "2022-11-22T20:04:32.264708Z",
     "shell.execute_reply": "2022-11-22T20:04:32.263153Z"
    },
    "papermill": {
     "duration": 0.442039,
     "end_time": "2022-11-22T20:04:32.267610",
     "exception": false,
     "start_time": "2022-11-22T20:04:31.825571",
     "status": "completed"
    },
    "tags": []
   },
   "outputs": [
    {
     "name": "stdout",
     "output_type": "stream",
     "text": [
      "Euclidean K-Means Accuracy:  0.5942594259425943\n",
      "Cosine K-Means Accuracy:  0.6140614061406141\n",
      "Jaccard K-Means Accuracy:  0.6233623362336234\n"
     ]
    }
   ],
   "source": [
    "E_accuracy = find_accuracy(E_centroids, E_labels, label)\n",
    "C_accuracy = find_accuracy(C_centroids, C_labels, label)\n",
    "J_accuracy = find_accuracy(J_centroids, J_labels, label)\n",
    "\n",
    "print ('Euclidean K-Means Accuracy: ', E_accuracy)\n",
    "print('Cosine K-Means Accuracy: ', C_accuracy)\n",
    "print('Jaccard K-Means Accuracy: ', J_accuracy)"
   ]
  },
  {
   "cell_type": "code",
   "execution_count": 17,
   "id": "47160e1d",
   "metadata": {
    "execution": {
     "iopub.execute_input": "2022-11-22T20:04:32.288811Z",
     "iopub.status.busy": "2022-11-22T20:04:32.287464Z",
     "iopub.status.idle": "2022-11-22T20:04:32.303027Z",
     "shell.execute_reply": "2022-11-22T20:04:32.301727Z"
    },
    "papermill": {
     "duration": 0.02968,
     "end_time": "2022-11-22T20:04:32.306507",
     "exception": false,
     "start_time": "2022-11-22T20:04:32.276827",
     "status": "completed"
    },
    "tags": []
   },
   "outputs": [
    {
     "data": {
      "text/html": [
       "<div>\n",
       "<style scoped>\n",
       "    .dataframe tbody tr th:only-of-type {\n",
       "        vertical-align: middle;\n",
       "    }\n",
       "\n",
       "    .dataframe tbody tr th {\n",
       "        vertical-align: top;\n",
       "    }\n",
       "\n",
       "    .dataframe thead th {\n",
       "        text-align: right;\n",
       "    }\n",
       "</style>\n",
       "<table border=\"1\" class=\"dataframe\">\n",
       "  <thead>\n",
       "    <tr style=\"text-align: right;\">\n",
       "      <th></th>\n",
       "      <th>Similarity metrics</th>\n",
       "      <th>Accuracy</th>\n",
       "    </tr>\n",
       "  </thead>\n",
       "  <tbody>\n",
       "    <tr>\n",
       "      <th>2</th>\n",
       "      <td>Jaccard K-Means</td>\n",
       "      <td>0.623362</td>\n",
       "    </tr>\n",
       "    <tr>\n",
       "      <th>1</th>\n",
       "      <td>Cosine K-Means</td>\n",
       "      <td>0.614061</td>\n",
       "    </tr>\n",
       "    <tr>\n",
       "      <th>0</th>\n",
       "      <td>Euclidean K-Means</td>\n",
       "      <td>0.594259</td>\n",
       "    </tr>\n",
       "  </tbody>\n",
       "</table>\n",
       "</div>"
      ],
      "text/plain": [
       "  Similarity metrics  Accuracy\n",
       "2    Jaccard K-Means  0.623362\n",
       "1     Cosine K-Means  0.614061\n",
       "0  Euclidean K-Means  0.594259"
      ]
     },
     "execution_count": 17,
     "metadata": {},
     "output_type": "execute_result"
    }
   ],
   "source": [
    "accuracy_table = pd.DataFrame({\n",
    "    'Similarity metrics': ['Euclidean K-Means', 'Cosine K-Means', 'Jaccard K-Means'],\n",
    "    'Accuracy': [E_accuracy, C_accuracy, J_accuracy],\n",
    "})\n",
    "accuracy_table.sort_values(by='Accuracy', ascending=False)"
   ]
  },
  {
   "cell_type": "code",
   "execution_count": 18,
   "id": "8257283b",
   "metadata": {
    "execution": {
     "iopub.execute_input": "2022-11-22T20:04:32.328417Z",
     "iopub.status.busy": "2022-11-22T20:04:32.327963Z",
     "iopub.status.idle": "2022-11-22T20:18:26.231744Z",
     "shell.execute_reply": "2022-11-22T20:18:26.230003Z"
    },
    "papermill": {
     "duration": 833.924853,
     "end_time": "2022-11-22T20:18:26.241388",
     "exception": false,
     "start_time": "2022-11-22T20:04:32.316535",
     "status": "completed"
    },
    "tags": []
   },
   "outputs": [
    {
     "name": "stdout",
     "output_type": "stream",
     "text": [
      "euclidean   Iterations total :  93\n",
      "cosine   Iterations total :  27\n",
      "jaccard   Iterations total :  38\n"
     ]
    }
   ],
   "source": [
    "E_centroids, E_labels = K_Means(data.to_numpy(), 10, 'euclidean', 2, 1)\n",
    "C_centroids, C_labels = K_Means(data.to_numpy(), 10, 'cosine', 2, 1)\n",
    "J_centroids, J_labels = K_Means(data.to_numpy(), 10, 'jaccard', 2, 1)"
   ]
  },
  {
   "cell_type": "markdown",
   "id": "30b9a5f1",
   "metadata": {
    "papermill": {
     "duration": 0.008943,
     "end_time": "2022-11-22T20:18:26.259695",
     "exception": false,
     "start_time": "2022-11-22T20:18:26.250752",
     "status": "completed"
    },
    "tags": []
   },
   "source": [
    "## Modify stop conditions to consider only one terminating condition"
   ]
  },
  {
   "cell_type": "code",
   "execution_count": 19,
   "id": "8c5ec614",
   "metadata": {
    "execution": {
     "iopub.execute_input": "2022-11-22T20:18:26.281277Z",
     "iopub.status.busy": "2022-11-22T20:18:26.280815Z",
     "iopub.status.idle": "2022-11-22T21:12:21.329127Z",
     "shell.execute_reply": "2022-11-22T21:12:21.327702Z"
    },
    "papermill": {
     "duration": 3235.071596,
     "end_time": "2022-11-22T21:12:21.341181",
     "exception": false,
     "start_time": "2022-11-22T20:18:26.269585",
     "status": "completed"
    },
    "tags": []
   },
   "outputs": [
    {
     "name": "stdout",
     "output_type": "stream",
     "text": [
      "euclidean   Iterations total :  38\n",
      "euclidean   Iterations total :  36\n",
      "euclidean   Iterations total :  100\n",
      "cosine   Iterations total :  59\n",
      "cosine   Iterations total :  53\n",
      "cosine   Iterations total :  100\n",
      "jaccard   Iterations total :  60\n",
      "jaccard   Iterations total :  47\n",
      "jaccard   Iterations total :  100\n"
     ]
    }
   ],
   "source": [
    "E_centroids_pos, E_labels_pos = K_Means(data.to_numpy(), 10, 'euclidean', 3, 1)\n",
    "E_centroids_sse, E_labels_sse = K_Means(data.to_numpy(), 10, 'euclidean', 3, 2)\n",
    "E_centroids_iter, E_labels_iter = K_Means(data.to_numpy(), 10, 'euclidean', 3, 3)\n",
    " \n",
    "C_centroids_pos, C_labels_pos = K_Means(data.to_numpy(), 10, 'cosine', 3, 1)\n",
    "C_centroids_sse, C_labels_sse = K_Means(data.to_numpy(), 10, 'cosine', 3, 2)\n",
    "C_centroids_iter, C_labels_iter = K_Means(data.to_numpy(), 10, 'cosine', 3, 3)\n",
    "\n",
    "\n",
    "J_centroids_pos, J_labels_pos = K_Means(data.to_numpy(), 10, 'jaccard', 3, 1)\n",
    "J_centroids_sse, J_labels_sse = K_Means(data.to_numpy(), 10, 'jaccard', 3, 2)\n",
    "J_centroids_iter, J_labels_iter = K_Means(data.to_numpy(), 10, 'jaccard', 3, 3)\n"
   ]
  },
  {
   "cell_type": "markdown",
   "id": "0ccab3ec",
   "metadata": {
    "papermill": {
     "duration": 0.010144,
     "end_time": "2022-11-22T21:12:21.361915",
     "exception": false,
     "start_time": "2022-11-22T21:12:21.351771",
     "status": "completed"
    },
    "tags": []
   },
   "source": [
    "## Calculating SSE for all metrics with different stop conditions"
   ]
  },
  {
   "cell_type": "code",
   "execution_count": 20,
   "id": "3143189d",
   "metadata": {
    "execution": {
     "iopub.execute_input": "2022-11-22T21:12:21.384844Z",
     "iopub.status.busy": "2022-11-22T21:12:21.384360Z",
     "iopub.status.idle": "2022-11-22T21:12:22.723431Z",
     "shell.execute_reply": "2022-11-22T21:12:22.722437Z"
    },
    "papermill": {
     "duration": 1.353305,
     "end_time": "2022-11-22T21:12:22.725650",
     "exception": false,
     "start_time": "2022-11-22T21:12:21.372345",
     "status": "completed"
    },
    "scrolled": true,
    "tags": []
   },
   "outputs": [
    {
     "name": "stdout",
     "output_type": "stream",
     "text": [
      "Euclidean SSEs wrt stop criteria: \n",
      "Centroids converge:  25321994318.21326\n",
      "New SSE is larger than previous SSE:  25495249192.75157\n",
      "Reached max number of iters (100):  25404775206.395275\n",
      "Cosine SSEs wrt stop criteria: \n",
      "Centroids converge:  25468173815.67823\n",
      "New SSE is larger than previous SSE:  25425454489.886997\n",
      "Reached max number of iters (100):  25416733862.67944\n",
      "jaccard SSEs wrt stop criteria: \n",
      "Centroids converge:  25415230917.736603\n",
      "New SSE is larger than previous SSE:  25434179158.75361\n",
      "Reached max number of iters (100):  25587905239.143787\n"
     ]
    }
   ],
   "source": [
    "# Euclidean dist model SSEs\n",
    "E_SSE_pos = SSE (E_centroids_pos, E_labels_pos.astype(int), data.to_numpy())\n",
    "E_SSE_sse = SSE (E_centroids_sse, E_labels_sse.astype(int), data.to_numpy())\n",
    "E_SSE_iter = SSE (E_centroids_iter, E_labels_iter.astype(int), data.to_numpy())\n",
    "\n",
    "# Cosine dist model SSEs\n",
    "C_SSE_pos = SSE (C_centroids_pos, C_labels_pos.astype(int), data.to_numpy())\n",
    "C_SSE_sse = SSE (C_centroids_sse, C_labels_sse.astype(int), data.to_numpy())\n",
    "C_SSE_iter = SSE (C_centroids_iter, C_labels_iter.astype(int), data.to_numpy())\n",
    "\n",
    "# jaccard dist model SSEs\n",
    "J_SSE_pos = SSE (J_centroids_pos, J_labels_pos.astype(int), data.to_numpy())\n",
    "J_SSE_sse = SSE (J_centroids_sse, J_labels_sse.astype(int), data.to_numpy())\n",
    "J_SSE_iter = SSE (J_centroids_iter, J_labels_iter.astype(int), data.to_numpy())\n",
    "\n",
    "print('Euclidean SSEs wrt stop criteria: ')\n",
    "print ('Centroids converge: ', E_SSE_pos)\n",
    "print('New SSE is larger than previous SSE: ', E_SSE_sse)\n",
    "print('Reached max number of iters (100): ', E_SSE_iter)\n",
    "\n",
    "print('Cosine SSEs wrt stop criteria: ')\n",
    "print ('Centroids converge: ', C_SSE_pos)\n",
    "print('New SSE is larger than previous SSE: ', C_SSE_sse)\n",
    "print('Reached max number of iters (100): ', C_SSE_iter)\n",
    "\n",
    "print('jaccard SSEs wrt stop criteria: ')\n",
    "print ('Centroids converge: ', J_SSE_pos)\n",
    "print('New SSE is larger than previous SSE: ', J_SSE_sse)\n",
    "print('Reached max number of iters (100): ', J_SSE_iter)"
   ]
  },
  {
   "cell_type": "code",
   "execution_count": 21,
   "id": "2a2cb21c",
   "metadata": {
    "execution": {
     "iopub.execute_input": "2022-11-22T21:12:22.748891Z",
     "iopub.status.busy": "2022-11-22T21:12:22.747818Z",
     "iopub.status.idle": "2022-11-22T21:12:22.768050Z",
     "shell.execute_reply": "2022-11-22T21:12:22.766864Z"
    },
    "papermill": {
     "duration": 0.034212,
     "end_time": "2022-11-22T21:12:22.770211",
     "exception": false,
     "start_time": "2022-11-22T21:12:22.735999",
     "status": "completed"
    },
    "tags": []
   },
   "outputs": [
    {
     "name": "stdout",
     "output_type": "stream",
     "text": [
      "Similarity metric with Best Centroid Convergence : \n"
     ]
    },
    {
     "data": {
      "text/html": [
       "<div>\n",
       "<style scoped>\n",
       "    .dataframe tbody tr th:only-of-type {\n",
       "        vertical-align: middle;\n",
       "    }\n",
       "\n",
       "    .dataframe tbody tr th {\n",
       "        vertical-align: top;\n",
       "    }\n",
       "\n",
       "    .dataframe thead th {\n",
       "        text-align: right;\n",
       "    }\n",
       "</style>\n",
       "<table border=\"1\" class=\"dataframe\">\n",
       "  <thead>\n",
       "    <tr style=\"text-align: right;\">\n",
       "      <th></th>\n",
       "      <th>Similarity metrics</th>\n",
       "      <th>Centroids Convergence</th>\n",
       "      <th>Previous SSE</th>\n",
       "      <th>New SSE</th>\n",
       "      <th>Max Iterations</th>\n",
       "    </tr>\n",
       "  </thead>\n",
       "  <tbody>\n",
       "    <tr>\n",
       "      <th>1</th>\n",
       "      <td>Cosine SSE</td>\n",
       "      <td>2.546817e+10</td>\n",
       "      <td>2.541158e+10</td>\n",
       "      <td>2.542545e+10</td>\n",
       "      <td>2.541673e+10</td>\n",
       "    </tr>\n",
       "    <tr>\n",
       "      <th>2</th>\n",
       "      <td>Jaccard SSE</td>\n",
       "      <td>2.541523e+10</td>\n",
       "      <td>2.548318e+10</td>\n",
       "      <td>2.543418e+10</td>\n",
       "      <td>2.558791e+10</td>\n",
       "    </tr>\n",
       "    <tr>\n",
       "      <th>0</th>\n",
       "      <td>Euclidean SSE</td>\n",
       "      <td>2.532199e+10</td>\n",
       "      <td>2.531830e+10</td>\n",
       "      <td>2.549525e+10</td>\n",
       "      <td>2.540478e+10</td>\n",
       "    </tr>\n",
       "  </tbody>\n",
       "</table>\n",
       "</div>"
      ],
      "text/plain": [
       "  Similarity metrics  Centroids Convergence  Previous SSE       New SSE  \\\n",
       "1         Cosine SSE           2.546817e+10  2.541158e+10  2.542545e+10   \n",
       "2        Jaccard SSE           2.541523e+10  2.548318e+10  2.543418e+10   \n",
       "0      Euclidean SSE           2.532199e+10  2.531830e+10  2.549525e+10   \n",
       "\n",
       "   Max Iterations  \n",
       "1    2.541673e+10  \n",
       "2    2.558791e+10  \n",
       "0    2.540478e+10  "
      ]
     },
     "execution_count": 21,
     "metadata": {},
     "output_type": "execute_result"
    }
   ],
   "source": [
    "newSSE_table = pd.DataFrame({\n",
    "    'Similarity metrics': ['Euclidean SSE', 'Cosine SSE', 'Jaccard SSE'],\n",
    "    'Centroids Convergence': [E_SSE_pos, C_SSE_pos, J_SSE_pos],\n",
    "    'Previous SSE': [E_SSE, C_SSE, J_SSE],\n",
    "    'New SSE': [E_SSE_sse, C_SSE_sse, J_SSE_sse],\n",
    "    'Max Iterations': [E_SSE_iter, C_SSE_iter, J_SSE_iter],\n",
    "})\n",
    "print(\"Similarity metric with Best Centroid Convergence : \")\n",
    "newSSE_table.sort_values(by='Centroids Convergence', ascending=False)\n",
    "\n"
   ]
  },
  {
   "cell_type": "code",
   "execution_count": 22,
   "id": "8da8fa0c",
   "metadata": {
    "execution": {
     "iopub.execute_input": "2022-11-22T21:12:22.793886Z",
     "iopub.status.busy": "2022-11-22T21:12:22.793142Z",
     "iopub.status.idle": "2022-11-22T21:12:22.808691Z",
     "shell.execute_reply": "2022-11-22T21:12:22.807557Z"
    },
    "papermill": {
     "duration": 0.030231,
     "end_time": "2022-11-22T21:12:22.810825",
     "exception": false,
     "start_time": "2022-11-22T21:12:22.780594",
     "status": "completed"
    },
    "tags": []
   },
   "outputs": [
    {
     "name": "stdout",
     "output_type": "stream",
     "text": [
      "Similarity metric with Best SSE : \n"
     ]
    },
    {
     "data": {
      "text/html": [
       "<div>\n",
       "<style scoped>\n",
       "    .dataframe tbody tr th:only-of-type {\n",
       "        vertical-align: middle;\n",
       "    }\n",
       "\n",
       "    .dataframe tbody tr th {\n",
       "        vertical-align: top;\n",
       "    }\n",
       "\n",
       "    .dataframe thead th {\n",
       "        text-align: right;\n",
       "    }\n",
       "</style>\n",
       "<table border=\"1\" class=\"dataframe\">\n",
       "  <thead>\n",
       "    <tr style=\"text-align: right;\">\n",
       "      <th></th>\n",
       "      <th>Similarity metrics</th>\n",
       "      <th>Centroids Convergence</th>\n",
       "      <th>Previous SSE</th>\n",
       "      <th>New SSE</th>\n",
       "      <th>Max Iterations</th>\n",
       "    </tr>\n",
       "  </thead>\n",
       "  <tbody>\n",
       "    <tr>\n",
       "      <th>1</th>\n",
       "      <td>Cosine SSE</td>\n",
       "      <td>2.546817e+10</td>\n",
       "      <td>2.541158e+10</td>\n",
       "      <td>2.542545e+10</td>\n",
       "      <td>2.541673e+10</td>\n",
       "    </tr>\n",
       "    <tr>\n",
       "      <th>2</th>\n",
       "      <td>Jaccard SSE</td>\n",
       "      <td>2.541523e+10</td>\n",
       "      <td>2.548318e+10</td>\n",
       "      <td>2.543418e+10</td>\n",
       "      <td>2.558791e+10</td>\n",
       "    </tr>\n",
       "    <tr>\n",
       "      <th>0</th>\n",
       "      <td>Euclidean SSE</td>\n",
       "      <td>2.532199e+10</td>\n",
       "      <td>2.531830e+10</td>\n",
       "      <td>2.549525e+10</td>\n",
       "      <td>2.540478e+10</td>\n",
       "    </tr>\n",
       "  </tbody>\n",
       "</table>\n",
       "</div>"
      ],
      "text/plain": [
       "  Similarity metrics  Centroids Convergence  Previous SSE       New SSE  \\\n",
       "1         Cosine SSE           2.546817e+10  2.541158e+10  2.542545e+10   \n",
       "2        Jaccard SSE           2.541523e+10  2.548318e+10  2.543418e+10   \n",
       "0      Euclidean SSE           2.532199e+10  2.531830e+10  2.549525e+10   \n",
       "\n",
       "   Max Iterations  \n",
       "1    2.541673e+10  \n",
       "2    2.558791e+10  \n",
       "0    2.540478e+10  "
      ]
     },
     "execution_count": 22,
     "metadata": {},
     "output_type": "execute_result"
    }
   ],
   "source": [
    "print(\"Similarity metric with Best SSE : \")\n",
    "newSSE_table.sort_values(by='New SSE', ascending=True)\n",
    "\n"
   ]
  },
  {
   "cell_type": "code",
   "execution_count": 23,
   "id": "5cdf95e7",
   "metadata": {
    "execution": {
     "iopub.execute_input": "2022-11-22T21:12:22.834205Z",
     "iopub.status.busy": "2022-11-22T21:12:22.833722Z",
     "iopub.status.idle": "2022-11-22T21:12:22.849231Z",
     "shell.execute_reply": "2022-11-22T21:12:22.847995Z"
    },
    "papermill": {
     "duration": 0.030035,
     "end_time": "2022-11-22T21:12:22.851635",
     "exception": false,
     "start_time": "2022-11-22T21:12:22.821600",
     "status": "completed"
    },
    "tags": []
   },
   "outputs": [
    {
     "name": "stdout",
     "output_type": "stream",
     "text": [
      "Similarity metric with least iteration number : \n"
     ]
    },
    {
     "data": {
      "text/html": [
       "<div>\n",
       "<style scoped>\n",
       "    .dataframe tbody tr th:only-of-type {\n",
       "        vertical-align: middle;\n",
       "    }\n",
       "\n",
       "    .dataframe tbody tr th {\n",
       "        vertical-align: top;\n",
       "    }\n",
       "\n",
       "    .dataframe thead th {\n",
       "        text-align: right;\n",
       "    }\n",
       "</style>\n",
       "<table border=\"1\" class=\"dataframe\">\n",
       "  <thead>\n",
       "    <tr style=\"text-align: right;\">\n",
       "      <th></th>\n",
       "      <th>Similarity metrics</th>\n",
       "      <th>Centroids Convergence</th>\n",
       "      <th>Previous SSE</th>\n",
       "      <th>New SSE</th>\n",
       "      <th>Max Iterations</th>\n",
       "    </tr>\n",
       "  </thead>\n",
       "  <tbody>\n",
       "    <tr>\n",
       "      <th>0</th>\n",
       "      <td>Euclidean SSE</td>\n",
       "      <td>2.532199e+10</td>\n",
       "      <td>2.531830e+10</td>\n",
       "      <td>2.549525e+10</td>\n",
       "      <td>2.540478e+10</td>\n",
       "    </tr>\n",
       "    <tr>\n",
       "      <th>1</th>\n",
       "      <td>Cosine SSE</td>\n",
       "      <td>2.546817e+10</td>\n",
       "      <td>2.541158e+10</td>\n",
       "      <td>2.542545e+10</td>\n",
       "      <td>2.541673e+10</td>\n",
       "    </tr>\n",
       "    <tr>\n",
       "      <th>2</th>\n",
       "      <td>Jaccard SSE</td>\n",
       "      <td>2.541523e+10</td>\n",
       "      <td>2.548318e+10</td>\n",
       "      <td>2.543418e+10</td>\n",
       "      <td>2.558791e+10</td>\n",
       "    </tr>\n",
       "  </tbody>\n",
       "</table>\n",
       "</div>"
      ],
      "text/plain": [
       "  Similarity metrics  Centroids Convergence  Previous SSE       New SSE  \\\n",
       "0      Euclidean SSE           2.532199e+10  2.531830e+10  2.549525e+10   \n",
       "1         Cosine SSE           2.546817e+10  2.541158e+10  2.542545e+10   \n",
       "2        Jaccard SSE           2.541523e+10  2.548318e+10  2.543418e+10   \n",
       "\n",
       "   Max Iterations  \n",
       "0    2.540478e+10  \n",
       "1    2.541673e+10  \n",
       "2    2.558791e+10  "
      ]
     },
     "execution_count": 23,
     "metadata": {},
     "output_type": "execute_result"
    }
   ],
   "source": [
    "print(\"Similarity metric with least iteration number : \")\n",
    "newSSE_table.sort_values(by='Max Iterations', ascending=True)"
   ]
  }
 ],
 "metadata": {
  "kernelspec": {
   "display_name": "Python 3",
   "language": "python",
   "name": "python3"
  },
  "language_info": {
   "codemirror_mode": {
    "name": "ipython",
    "version": 3
   },
   "file_extension": ".py",
   "mimetype": "text/x-python",
   "name": "python",
   "nbconvert_exporter": "python",
   "pygments_lexer": "ipython3",
   "version": "3.7.12"
  },
  "papermill": {
   "default_parameters": {},
   "duration": 5137.945934,
   "end_time": "2022-11-22T21:12:23.896524",
   "environment_variables": {},
   "exception": null,
   "input_path": "__notebook__.ipynb",
   "output_path": "__notebook__.ipynb",
   "parameters": {},
   "start_time": "2022-11-22T19:46:45.950590",
   "version": "2.3.4"
  }
 },
 "nbformat": 4,
 "nbformat_minor": 5
}
