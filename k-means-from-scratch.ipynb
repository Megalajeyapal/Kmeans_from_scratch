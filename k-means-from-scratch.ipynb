{
 "cells": [
  {
   "cell_type": "markdown",
   "id": "38ae853b",
   "metadata": {
    "papermill": {
     "duration": 0.008521,
     "end_time": "2022-11-22T15:26:55.095709",
     "exception": false,
     "start_time": "2022-11-22T15:26:55.087188",
     "status": "completed"
    },
    "tags": []
   },
   "source": [
    "# **K-Means Clustering**"
   ]
  },
  {
   "cell_type": "code",
   "execution_count": 1,
   "id": "580c5f6c",
   "metadata": {
    "execution": {
     "iopub.execute_input": "2022-11-22T15:26:55.113516Z",
     "iopub.status.busy": "2022-11-22T15:26:55.112617Z",
     "iopub.status.idle": "2022-11-22T15:26:57.331243Z",
     "shell.execute_reply": "2022-11-22T15:26:57.329941Z"
    },
    "papermill": {
     "duration": 2.231294,
     "end_time": "2022-11-22T15:26:57.334606",
     "exception": false,
     "start_time": "2022-11-22T15:26:55.103312",
     "status": "completed"
    },
    "tags": []
   },
   "outputs": [],
   "source": [
    "import numpy as np\n",
    "import pandas as pd\n",
    "\n",
    "import matplotlib.pyplot as plt\n",
    "import seaborn as sns\n",
    "%matplotlib inline\n",
    "\n",
    "import math\n",
    "import random\n",
    "\n",
    "data = pd.read_csv('../input/dataset/data.csv')\n",
    "label = pd.read_csv('../input/labeld/label.csv')"
   ]
  },
  {
   "cell_type": "code",
   "execution_count": 2,
   "id": "ddac1d73",
   "metadata": {
    "execution": {
     "iopub.execute_input": "2022-11-22T15:26:57.351710Z",
     "iopub.status.busy": "2022-11-22T15:26:57.351282Z",
     "iopub.status.idle": "2022-11-22T15:26:57.382473Z",
     "shell.execute_reply": "2022-11-22T15:26:57.381221Z"
    },
    "papermill": {
     "duration": 0.043291,
     "end_time": "2022-11-22T15:26:57.385641",
     "exception": false,
     "start_time": "2022-11-22T15:26:57.342350",
     "status": "completed"
    },
    "tags": []
   },
   "outputs": [
    {
     "data": {
      "text/html": [
       "<div>\n",
       "<style scoped>\n",
       "    .dataframe tbody tr th:only-of-type {\n",
       "        vertical-align: middle;\n",
       "    }\n",
       "\n",
       "    .dataframe tbody tr th {\n",
       "        vertical-align: top;\n",
       "    }\n",
       "\n",
       "    .dataframe thead th {\n",
       "        text-align: right;\n",
       "    }\n",
       "</style>\n",
       "<table border=\"1\" class=\"dataframe\">\n",
       "  <thead>\n",
       "    <tr style=\"text-align: right;\">\n",
       "      <th></th>\n",
       "      <th>0</th>\n",
       "      <th>0.1</th>\n",
       "      <th>0.2</th>\n",
       "      <th>0.3</th>\n",
       "      <th>0.4</th>\n",
       "      <th>0.5</th>\n",
       "      <th>0.6</th>\n",
       "      <th>0.7</th>\n",
       "      <th>0.8</th>\n",
       "      <th>0.9</th>\n",
       "      <th>...</th>\n",
       "      <th>0.658</th>\n",
       "      <th>0.659</th>\n",
       "      <th>0.660</th>\n",
       "      <th>0.661</th>\n",
       "      <th>0.662</th>\n",
       "      <th>0.663</th>\n",
       "      <th>0.664</th>\n",
       "      <th>0.665</th>\n",
       "      <th>0.666</th>\n",
       "      <th>0.667</th>\n",
       "    </tr>\n",
       "  </thead>\n",
       "  <tbody>\n",
       "    <tr>\n",
       "      <th>0</th>\n",
       "      <td>0</td>\n",
       "      <td>0</td>\n",
       "      <td>0</td>\n",
       "      <td>0</td>\n",
       "      <td>0</td>\n",
       "      <td>0</td>\n",
       "      <td>0</td>\n",
       "      <td>0</td>\n",
       "      <td>0</td>\n",
       "      <td>0</td>\n",
       "      <td>...</td>\n",
       "      <td>0</td>\n",
       "      <td>0</td>\n",
       "      <td>0</td>\n",
       "      <td>0</td>\n",
       "      <td>0</td>\n",
       "      <td>0</td>\n",
       "      <td>0</td>\n",
       "      <td>0</td>\n",
       "      <td>0</td>\n",
       "      <td>0</td>\n",
       "    </tr>\n",
       "    <tr>\n",
       "      <th>1</th>\n",
       "      <td>0</td>\n",
       "      <td>0</td>\n",
       "      <td>0</td>\n",
       "      <td>0</td>\n",
       "      <td>0</td>\n",
       "      <td>0</td>\n",
       "      <td>0</td>\n",
       "      <td>0</td>\n",
       "      <td>0</td>\n",
       "      <td>0</td>\n",
       "      <td>...</td>\n",
       "      <td>0</td>\n",
       "      <td>0</td>\n",
       "      <td>0</td>\n",
       "      <td>0</td>\n",
       "      <td>0</td>\n",
       "      <td>0</td>\n",
       "      <td>0</td>\n",
       "      <td>0</td>\n",
       "      <td>0</td>\n",
       "      <td>0</td>\n",
       "    </tr>\n",
       "    <tr>\n",
       "      <th>2</th>\n",
       "      <td>0</td>\n",
       "      <td>0</td>\n",
       "      <td>0</td>\n",
       "      <td>0</td>\n",
       "      <td>0</td>\n",
       "      <td>0</td>\n",
       "      <td>0</td>\n",
       "      <td>0</td>\n",
       "      <td>0</td>\n",
       "      <td>0</td>\n",
       "      <td>...</td>\n",
       "      <td>0</td>\n",
       "      <td>0</td>\n",
       "      <td>0</td>\n",
       "      <td>0</td>\n",
       "      <td>0</td>\n",
       "      <td>0</td>\n",
       "      <td>0</td>\n",
       "      <td>0</td>\n",
       "      <td>0</td>\n",
       "      <td>0</td>\n",
       "    </tr>\n",
       "    <tr>\n",
       "      <th>3</th>\n",
       "      <td>0</td>\n",
       "      <td>0</td>\n",
       "      <td>0</td>\n",
       "      <td>0</td>\n",
       "      <td>0</td>\n",
       "      <td>0</td>\n",
       "      <td>0</td>\n",
       "      <td>0</td>\n",
       "      <td>0</td>\n",
       "      <td>0</td>\n",
       "      <td>...</td>\n",
       "      <td>0</td>\n",
       "      <td>0</td>\n",
       "      <td>0</td>\n",
       "      <td>0</td>\n",
       "      <td>0</td>\n",
       "      <td>0</td>\n",
       "      <td>0</td>\n",
       "      <td>0</td>\n",
       "      <td>0</td>\n",
       "      <td>0</td>\n",
       "    </tr>\n",
       "    <tr>\n",
       "      <th>4</th>\n",
       "      <td>0</td>\n",
       "      <td>0</td>\n",
       "      <td>0</td>\n",
       "      <td>0</td>\n",
       "      <td>0</td>\n",
       "      <td>0</td>\n",
       "      <td>0</td>\n",
       "      <td>0</td>\n",
       "      <td>0</td>\n",
       "      <td>0</td>\n",
       "      <td>...</td>\n",
       "      <td>0</td>\n",
       "      <td>0</td>\n",
       "      <td>0</td>\n",
       "      <td>0</td>\n",
       "      <td>0</td>\n",
       "      <td>0</td>\n",
       "      <td>0</td>\n",
       "      <td>0</td>\n",
       "      <td>0</td>\n",
       "      <td>0</td>\n",
       "    </tr>\n",
       "    <tr>\n",
       "      <th>5</th>\n",
       "      <td>0</td>\n",
       "      <td>0</td>\n",
       "      <td>0</td>\n",
       "      <td>0</td>\n",
       "      <td>0</td>\n",
       "      <td>0</td>\n",
       "      <td>0</td>\n",
       "      <td>0</td>\n",
       "      <td>0</td>\n",
       "      <td>0</td>\n",
       "      <td>...</td>\n",
       "      <td>0</td>\n",
       "      <td>0</td>\n",
       "      <td>0</td>\n",
       "      <td>0</td>\n",
       "      <td>0</td>\n",
       "      <td>0</td>\n",
       "      <td>0</td>\n",
       "      <td>0</td>\n",
       "      <td>0</td>\n",
       "      <td>0</td>\n",
       "    </tr>\n",
       "    <tr>\n",
       "      <th>6</th>\n",
       "      <td>0</td>\n",
       "      <td>0</td>\n",
       "      <td>0</td>\n",
       "      <td>0</td>\n",
       "      <td>0</td>\n",
       "      <td>0</td>\n",
       "      <td>0</td>\n",
       "      <td>0</td>\n",
       "      <td>0</td>\n",
       "      <td>0</td>\n",
       "      <td>...</td>\n",
       "      <td>0</td>\n",
       "      <td>0</td>\n",
       "      <td>0</td>\n",
       "      <td>0</td>\n",
       "      <td>0</td>\n",
       "      <td>0</td>\n",
       "      <td>0</td>\n",
       "      <td>0</td>\n",
       "      <td>0</td>\n",
       "      <td>0</td>\n",
       "    </tr>\n",
       "    <tr>\n",
       "      <th>7</th>\n",
       "      <td>0</td>\n",
       "      <td>0</td>\n",
       "      <td>0</td>\n",
       "      <td>0</td>\n",
       "      <td>0</td>\n",
       "      <td>0</td>\n",
       "      <td>0</td>\n",
       "      <td>0</td>\n",
       "      <td>0</td>\n",
       "      <td>0</td>\n",
       "      <td>...</td>\n",
       "      <td>0</td>\n",
       "      <td>0</td>\n",
       "      <td>0</td>\n",
       "      <td>0</td>\n",
       "      <td>0</td>\n",
       "      <td>0</td>\n",
       "      <td>0</td>\n",
       "      <td>0</td>\n",
       "      <td>0</td>\n",
       "      <td>0</td>\n",
       "    </tr>\n",
       "    <tr>\n",
       "      <th>8</th>\n",
       "      <td>0</td>\n",
       "      <td>0</td>\n",
       "      <td>0</td>\n",
       "      <td>0</td>\n",
       "      <td>0</td>\n",
       "      <td>0</td>\n",
       "      <td>0</td>\n",
       "      <td>0</td>\n",
       "      <td>0</td>\n",
       "      <td>0</td>\n",
       "      <td>...</td>\n",
       "      <td>0</td>\n",
       "      <td>0</td>\n",
       "      <td>0</td>\n",
       "      <td>0</td>\n",
       "      <td>0</td>\n",
       "      <td>0</td>\n",
       "      <td>0</td>\n",
       "      <td>0</td>\n",
       "      <td>0</td>\n",
       "      <td>0</td>\n",
       "    </tr>\n",
       "    <tr>\n",
       "      <th>9</th>\n",
       "      <td>0</td>\n",
       "      <td>0</td>\n",
       "      <td>0</td>\n",
       "      <td>0</td>\n",
       "      <td>0</td>\n",
       "      <td>0</td>\n",
       "      <td>0</td>\n",
       "      <td>0</td>\n",
       "      <td>0</td>\n",
       "      <td>0</td>\n",
       "      <td>...</td>\n",
       "      <td>0</td>\n",
       "      <td>0</td>\n",
       "      <td>0</td>\n",
       "      <td>0</td>\n",
       "      <td>0</td>\n",
       "      <td>0</td>\n",
       "      <td>0</td>\n",
       "      <td>0</td>\n",
       "      <td>0</td>\n",
       "      <td>0</td>\n",
       "    </tr>\n",
       "  </tbody>\n",
       "</table>\n",
       "<p>10 rows × 784 columns</p>\n",
       "</div>"
      ],
      "text/plain": [
       "   0  0.1  0.2  0.3  0.4  0.5  0.6  0.7  0.8  0.9  ...  0.658  0.659  0.660  \\\n",
       "0  0    0    0    0    0    0    0    0    0    0  ...      0      0      0   \n",
       "1  0    0    0    0    0    0    0    0    0    0  ...      0      0      0   \n",
       "2  0    0    0    0    0    0    0    0    0    0  ...      0      0      0   \n",
       "3  0    0    0    0    0    0    0    0    0    0  ...      0      0      0   \n",
       "4  0    0    0    0    0    0    0    0    0    0  ...      0      0      0   \n",
       "5  0    0    0    0    0    0    0    0    0    0  ...      0      0      0   \n",
       "6  0    0    0    0    0    0    0    0    0    0  ...      0      0      0   \n",
       "7  0    0    0    0    0    0    0    0    0    0  ...      0      0      0   \n",
       "8  0    0    0    0    0    0    0    0    0    0  ...      0      0      0   \n",
       "9  0    0    0    0    0    0    0    0    0    0  ...      0      0      0   \n",
       "\n",
       "   0.661  0.662  0.663  0.664  0.665  0.666  0.667  \n",
       "0      0      0      0      0      0      0      0  \n",
       "1      0      0      0      0      0      0      0  \n",
       "2      0      0      0      0      0      0      0  \n",
       "3      0      0      0      0      0      0      0  \n",
       "4      0      0      0      0      0      0      0  \n",
       "5      0      0      0      0      0      0      0  \n",
       "6      0      0      0      0      0      0      0  \n",
       "7      0      0      0      0      0      0      0  \n",
       "8      0      0      0      0      0      0      0  \n",
       "9      0      0      0      0      0      0      0  \n",
       "\n",
       "[10 rows x 784 columns]"
      ]
     },
     "execution_count": 2,
     "metadata": {},
     "output_type": "execute_result"
    }
   ],
   "source": [
    "data.head(10)"
   ]
  },
  {
   "cell_type": "code",
   "execution_count": 3,
   "id": "35703a16",
   "metadata": {
    "execution": {
     "iopub.execute_input": "2022-11-22T15:26:57.402839Z",
     "iopub.status.busy": "2022-11-22T15:26:57.402398Z",
     "iopub.status.idle": "2022-11-22T15:26:57.412609Z",
     "shell.execute_reply": "2022-11-22T15:26:57.411319Z"
    },
    "papermill": {
     "duration": 0.021564,
     "end_time": "2022-11-22T15:26:57.414938",
     "exception": false,
     "start_time": "2022-11-22T15:26:57.393374",
     "status": "completed"
    },
    "tags": []
   },
   "outputs": [
    {
     "data": {
      "text/html": [
       "<div>\n",
       "<style scoped>\n",
       "    .dataframe tbody tr th:only-of-type {\n",
       "        vertical-align: middle;\n",
       "    }\n",
       "\n",
       "    .dataframe tbody tr th {\n",
       "        vertical-align: top;\n",
       "    }\n",
       "\n",
       "    .dataframe thead th {\n",
       "        text-align: right;\n",
       "    }\n",
       "</style>\n",
       "<table border=\"1\" class=\"dataframe\">\n",
       "  <thead>\n",
       "    <tr style=\"text-align: right;\">\n",
       "      <th></th>\n",
       "      <th>7</th>\n",
       "    </tr>\n",
       "  </thead>\n",
       "  <tbody>\n",
       "    <tr>\n",
       "      <th>0</th>\n",
       "      <td>2</td>\n",
       "    </tr>\n",
       "    <tr>\n",
       "      <th>1</th>\n",
       "      <td>1</td>\n",
       "    </tr>\n",
       "    <tr>\n",
       "      <th>2</th>\n",
       "      <td>0</td>\n",
       "    </tr>\n",
       "    <tr>\n",
       "      <th>3</th>\n",
       "      <td>4</td>\n",
       "    </tr>\n",
       "    <tr>\n",
       "      <th>4</th>\n",
       "      <td>1</td>\n",
       "    </tr>\n",
       "    <tr>\n",
       "      <th>5</th>\n",
       "      <td>4</td>\n",
       "    </tr>\n",
       "    <tr>\n",
       "      <th>6</th>\n",
       "      <td>9</td>\n",
       "    </tr>\n",
       "    <tr>\n",
       "      <th>7</th>\n",
       "      <td>5</td>\n",
       "    </tr>\n",
       "    <tr>\n",
       "      <th>8</th>\n",
       "      <td>9</td>\n",
       "    </tr>\n",
       "    <tr>\n",
       "      <th>9</th>\n",
       "      <td>0</td>\n",
       "    </tr>\n",
       "  </tbody>\n",
       "</table>\n",
       "</div>"
      ],
      "text/plain": [
       "   7\n",
       "0  2\n",
       "1  1\n",
       "2  0\n",
       "3  4\n",
       "4  1\n",
       "5  4\n",
       "6  9\n",
       "7  5\n",
       "8  9\n",
       "9  0"
      ]
     },
     "execution_count": 3,
     "metadata": {},
     "output_type": "execute_result"
    }
   ],
   "source": [
    "label.head(10)"
   ]
  },
  {
   "cell_type": "code",
   "execution_count": 4,
   "id": "c9122ef9",
   "metadata": {
    "execution": {
     "iopub.execute_input": "2022-11-22T15:26:57.432416Z",
     "iopub.status.busy": "2022-11-22T15:26:57.432024Z",
     "iopub.status.idle": "2022-11-22T15:26:57.439910Z",
     "shell.execute_reply": "2022-11-22T15:26:57.438405Z"
    },
    "papermill": {
     "duration": 0.019714,
     "end_time": "2022-11-22T15:26:57.442564",
     "exception": false,
     "start_time": "2022-11-22T15:26:57.422850",
     "status": "completed"
    },
    "tags": []
   },
   "outputs": [
    {
     "data": {
      "text/plain": [
       "(9999, 784)"
      ]
     },
     "execution_count": 4,
     "metadata": {},
     "output_type": "execute_result"
    }
   ],
   "source": [
    "data.shape"
   ]
  },
  {
   "cell_type": "code",
   "execution_count": 5,
   "id": "2e1bf9ce",
   "metadata": {
    "execution": {
     "iopub.execute_input": "2022-11-22T15:26:57.463808Z",
     "iopub.status.busy": "2022-11-22T15:26:57.463339Z",
     "iopub.status.idle": "2022-11-22T15:26:57.470702Z",
     "shell.execute_reply": "2022-11-22T15:26:57.469556Z"
    },
    "papermill": {
     "duration": 0.022108,
     "end_time": "2022-11-22T15:26:57.473055",
     "exception": false,
     "start_time": "2022-11-22T15:26:57.450947",
     "status": "completed"
    },
    "tags": []
   },
   "outputs": [
    {
     "data": {
      "text/plain": [
       "(9999, 1)"
      ]
     },
     "execution_count": 5,
     "metadata": {},
     "output_type": "execute_result"
    }
   ],
   "source": [
    "label.shape"
   ]
  },
  {
   "cell_type": "code",
   "execution_count": 6,
   "id": "e8ab614c",
   "metadata": {
    "execution": {
     "iopub.execute_input": "2022-11-22T15:26:57.491165Z",
     "iopub.status.busy": "2022-11-22T15:26:57.490762Z",
     "iopub.status.idle": "2022-11-22T15:26:59.270619Z",
     "shell.execute_reply": "2022-11-22T15:26:59.269458Z"
    },
    "papermill": {
     "duration": 1.791921,
     "end_time": "2022-11-22T15:26:59.273183",
     "exception": false,
     "start_time": "2022-11-22T15:26:57.481262",
     "status": "completed"
    },
    "tags": []
   },
   "outputs": [
    {
     "data": {
      "text/html": [
       "<div>\n",
       "<style scoped>\n",
       "    .dataframe tbody tr th:only-of-type {\n",
       "        vertical-align: middle;\n",
       "    }\n",
       "\n",
       "    .dataframe tbody tr th {\n",
       "        vertical-align: top;\n",
       "    }\n",
       "\n",
       "    .dataframe thead th {\n",
       "        text-align: right;\n",
       "    }\n",
       "</style>\n",
       "<table border=\"1\" class=\"dataframe\">\n",
       "  <thead>\n",
       "    <tr style=\"text-align: right;\">\n",
       "      <th></th>\n",
       "      <th>0</th>\n",
       "      <th>0.1</th>\n",
       "      <th>0.2</th>\n",
       "      <th>0.3</th>\n",
       "      <th>0.4</th>\n",
       "      <th>0.5</th>\n",
       "      <th>0.6</th>\n",
       "      <th>0.7</th>\n",
       "      <th>0.8</th>\n",
       "      <th>0.9</th>\n",
       "      <th>...</th>\n",
       "      <th>0.658</th>\n",
       "      <th>0.659</th>\n",
       "      <th>0.660</th>\n",
       "      <th>0.661</th>\n",
       "      <th>0.662</th>\n",
       "      <th>0.663</th>\n",
       "      <th>0.664</th>\n",
       "      <th>0.665</th>\n",
       "      <th>0.666</th>\n",
       "      <th>0.667</th>\n",
       "    </tr>\n",
       "  </thead>\n",
       "  <tbody>\n",
       "    <tr>\n",
       "      <th>count</th>\n",
       "      <td>9999.0</td>\n",
       "      <td>9999.0</td>\n",
       "      <td>9999.0</td>\n",
       "      <td>9999.0</td>\n",
       "      <td>9999.0</td>\n",
       "      <td>9999.0</td>\n",
       "      <td>9999.0</td>\n",
       "      <td>9999.0</td>\n",
       "      <td>9999.0</td>\n",
       "      <td>9999.0</td>\n",
       "      <td>...</td>\n",
       "      <td>9999.000000</td>\n",
       "      <td>9999.000000</td>\n",
       "      <td>9999.000000</td>\n",
       "      <td>9999.000000</td>\n",
       "      <td>9999.0</td>\n",
       "      <td>9999.0</td>\n",
       "      <td>9999.0</td>\n",
       "      <td>9999.0</td>\n",
       "      <td>9999.0</td>\n",
       "      <td>9999.0</td>\n",
       "    </tr>\n",
       "    <tr>\n",
       "      <th>mean</th>\n",
       "      <td>0.0</td>\n",
       "      <td>0.0</td>\n",
       "      <td>0.0</td>\n",
       "      <td>0.0</td>\n",
       "      <td>0.0</td>\n",
       "      <td>0.0</td>\n",
       "      <td>0.0</td>\n",
       "      <td>0.0</td>\n",
       "      <td>0.0</td>\n",
       "      <td>0.0</td>\n",
       "      <td>...</td>\n",
       "      <td>0.179318</td>\n",
       "      <td>0.163616</td>\n",
       "      <td>0.052605</td>\n",
       "      <td>0.000600</td>\n",
       "      <td>0.0</td>\n",
       "      <td>0.0</td>\n",
       "      <td>0.0</td>\n",
       "      <td>0.0</td>\n",
       "      <td>0.0</td>\n",
       "      <td>0.0</td>\n",
       "    </tr>\n",
       "    <tr>\n",
       "      <th>std</th>\n",
       "      <td>0.0</td>\n",
       "      <td>0.0</td>\n",
       "      <td>0.0</td>\n",
       "      <td>0.0</td>\n",
       "      <td>0.0</td>\n",
       "      <td>0.0</td>\n",
       "      <td>0.0</td>\n",
       "      <td>0.0</td>\n",
       "      <td>0.0</td>\n",
       "      <td>0.0</td>\n",
       "      <td>...</td>\n",
       "      <td>5.674433</td>\n",
       "      <td>5.736359</td>\n",
       "      <td>2.420125</td>\n",
       "      <td>0.060003</td>\n",
       "      <td>0.0</td>\n",
       "      <td>0.0</td>\n",
       "      <td>0.0</td>\n",
       "      <td>0.0</td>\n",
       "      <td>0.0</td>\n",
       "      <td>0.0</td>\n",
       "    </tr>\n",
       "    <tr>\n",
       "      <th>min</th>\n",
       "      <td>0.0</td>\n",
       "      <td>0.0</td>\n",
       "      <td>0.0</td>\n",
       "      <td>0.0</td>\n",
       "      <td>0.0</td>\n",
       "      <td>0.0</td>\n",
       "      <td>0.0</td>\n",
       "      <td>0.0</td>\n",
       "      <td>0.0</td>\n",
       "      <td>0.0</td>\n",
       "      <td>...</td>\n",
       "      <td>0.000000</td>\n",
       "      <td>0.000000</td>\n",
       "      <td>0.000000</td>\n",
       "      <td>0.000000</td>\n",
       "      <td>0.0</td>\n",
       "      <td>0.0</td>\n",
       "      <td>0.0</td>\n",
       "      <td>0.0</td>\n",
       "      <td>0.0</td>\n",
       "      <td>0.0</td>\n",
       "    </tr>\n",
       "    <tr>\n",
       "      <th>25%</th>\n",
       "      <td>0.0</td>\n",
       "      <td>0.0</td>\n",
       "      <td>0.0</td>\n",
       "      <td>0.0</td>\n",
       "      <td>0.0</td>\n",
       "      <td>0.0</td>\n",
       "      <td>0.0</td>\n",
       "      <td>0.0</td>\n",
       "      <td>0.0</td>\n",
       "      <td>0.0</td>\n",
       "      <td>...</td>\n",
       "      <td>0.000000</td>\n",
       "      <td>0.000000</td>\n",
       "      <td>0.000000</td>\n",
       "      <td>0.000000</td>\n",
       "      <td>0.0</td>\n",
       "      <td>0.0</td>\n",
       "      <td>0.0</td>\n",
       "      <td>0.0</td>\n",
       "      <td>0.0</td>\n",
       "      <td>0.0</td>\n",
       "    </tr>\n",
       "    <tr>\n",
       "      <th>50%</th>\n",
       "      <td>0.0</td>\n",
       "      <td>0.0</td>\n",
       "      <td>0.0</td>\n",
       "      <td>0.0</td>\n",
       "      <td>0.0</td>\n",
       "      <td>0.0</td>\n",
       "      <td>0.0</td>\n",
       "      <td>0.0</td>\n",
       "      <td>0.0</td>\n",
       "      <td>0.0</td>\n",
       "      <td>...</td>\n",
       "      <td>0.000000</td>\n",
       "      <td>0.000000</td>\n",
       "      <td>0.000000</td>\n",
       "      <td>0.000000</td>\n",
       "      <td>0.0</td>\n",
       "      <td>0.0</td>\n",
       "      <td>0.0</td>\n",
       "      <td>0.0</td>\n",
       "      <td>0.0</td>\n",
       "      <td>0.0</td>\n",
       "    </tr>\n",
       "    <tr>\n",
       "      <th>75%</th>\n",
       "      <td>0.0</td>\n",
       "      <td>0.0</td>\n",
       "      <td>0.0</td>\n",
       "      <td>0.0</td>\n",
       "      <td>0.0</td>\n",
       "      <td>0.0</td>\n",
       "      <td>0.0</td>\n",
       "      <td>0.0</td>\n",
       "      <td>0.0</td>\n",
       "      <td>0.0</td>\n",
       "      <td>...</td>\n",
       "      <td>0.000000</td>\n",
       "      <td>0.000000</td>\n",
       "      <td>0.000000</td>\n",
       "      <td>0.000000</td>\n",
       "      <td>0.0</td>\n",
       "      <td>0.0</td>\n",
       "      <td>0.0</td>\n",
       "      <td>0.0</td>\n",
       "      <td>0.0</td>\n",
       "      <td>0.0</td>\n",
       "    </tr>\n",
       "    <tr>\n",
       "      <th>max</th>\n",
       "      <td>0.0</td>\n",
       "      <td>0.0</td>\n",
       "      <td>0.0</td>\n",
       "      <td>0.0</td>\n",
       "      <td>0.0</td>\n",
       "      <td>0.0</td>\n",
       "      <td>0.0</td>\n",
       "      <td>0.0</td>\n",
       "      <td>0.0</td>\n",
       "      <td>0.0</td>\n",
       "      <td>...</td>\n",
       "      <td>253.000000</td>\n",
       "      <td>253.000000</td>\n",
       "      <td>156.000000</td>\n",
       "      <td>6.000000</td>\n",
       "      <td>0.0</td>\n",
       "      <td>0.0</td>\n",
       "      <td>0.0</td>\n",
       "      <td>0.0</td>\n",
       "      <td>0.0</td>\n",
       "      <td>0.0</td>\n",
       "    </tr>\n",
       "  </tbody>\n",
       "</table>\n",
       "<p>8 rows × 784 columns</p>\n",
       "</div>"
      ],
      "text/plain": [
       "            0     0.1     0.2     0.3     0.4     0.5     0.6     0.7     0.8  \\\n",
       "count  9999.0  9999.0  9999.0  9999.0  9999.0  9999.0  9999.0  9999.0  9999.0   \n",
       "mean      0.0     0.0     0.0     0.0     0.0     0.0     0.0     0.0     0.0   \n",
       "std       0.0     0.0     0.0     0.0     0.0     0.0     0.0     0.0     0.0   \n",
       "min       0.0     0.0     0.0     0.0     0.0     0.0     0.0     0.0     0.0   \n",
       "25%       0.0     0.0     0.0     0.0     0.0     0.0     0.0     0.0     0.0   \n",
       "50%       0.0     0.0     0.0     0.0     0.0     0.0     0.0     0.0     0.0   \n",
       "75%       0.0     0.0     0.0     0.0     0.0     0.0     0.0     0.0     0.0   \n",
       "max       0.0     0.0     0.0     0.0     0.0     0.0     0.0     0.0     0.0   \n",
       "\n",
       "          0.9  ...        0.658        0.659        0.660        0.661  \\\n",
       "count  9999.0  ...  9999.000000  9999.000000  9999.000000  9999.000000   \n",
       "mean      0.0  ...     0.179318     0.163616     0.052605     0.000600   \n",
       "std       0.0  ...     5.674433     5.736359     2.420125     0.060003   \n",
       "min       0.0  ...     0.000000     0.000000     0.000000     0.000000   \n",
       "25%       0.0  ...     0.000000     0.000000     0.000000     0.000000   \n",
       "50%       0.0  ...     0.000000     0.000000     0.000000     0.000000   \n",
       "75%       0.0  ...     0.000000     0.000000     0.000000     0.000000   \n",
       "max       0.0  ...   253.000000   253.000000   156.000000     6.000000   \n",
       "\n",
       "        0.662   0.663   0.664   0.665   0.666   0.667  \n",
       "count  9999.0  9999.0  9999.0  9999.0  9999.0  9999.0  \n",
       "mean      0.0     0.0     0.0     0.0     0.0     0.0  \n",
       "std       0.0     0.0     0.0     0.0     0.0     0.0  \n",
       "min       0.0     0.0     0.0     0.0     0.0     0.0  \n",
       "25%       0.0     0.0     0.0     0.0     0.0     0.0  \n",
       "50%       0.0     0.0     0.0     0.0     0.0     0.0  \n",
       "75%       0.0     0.0     0.0     0.0     0.0     0.0  \n",
       "max       0.0     0.0     0.0     0.0     0.0     0.0  \n",
       "\n",
       "[8 rows x 784 columns]"
      ]
     },
     "execution_count": 6,
     "metadata": {},
     "output_type": "execute_result"
    }
   ],
   "source": [
    "data.describe()"
   ]
  },
  {
   "cell_type": "code",
   "execution_count": 7,
   "id": "8b5392cf",
   "metadata": {
    "execution": {
     "iopub.execute_input": "2022-11-22T15:26:59.292232Z",
     "iopub.status.busy": "2022-11-22T15:26:59.291740Z",
     "iopub.status.idle": "2022-11-22T15:26:59.309484Z",
     "shell.execute_reply": "2022-11-22T15:26:59.308176Z"
    },
    "papermill": {
     "duration": 0.030467,
     "end_time": "2022-11-22T15:26:59.312112",
     "exception": false,
     "start_time": "2022-11-22T15:26:59.281645",
     "status": "completed"
    },
    "tags": []
   },
   "outputs": [
    {
     "data": {
      "text/html": [
       "<div>\n",
       "<style scoped>\n",
       "    .dataframe tbody tr th:only-of-type {\n",
       "        vertical-align: middle;\n",
       "    }\n",
       "\n",
       "    .dataframe tbody tr th {\n",
       "        vertical-align: top;\n",
       "    }\n",
       "\n",
       "    .dataframe thead th {\n",
       "        text-align: right;\n",
       "    }\n",
       "</style>\n",
       "<table border=\"1\" class=\"dataframe\">\n",
       "  <thead>\n",
       "    <tr style=\"text-align: right;\">\n",
       "      <th></th>\n",
       "      <th>7</th>\n",
       "    </tr>\n",
       "  </thead>\n",
       "  <tbody>\n",
       "    <tr>\n",
       "      <th>count</th>\n",
       "      <td>9999.000000</td>\n",
       "    </tr>\n",
       "    <tr>\n",
       "      <th>mean</th>\n",
       "      <td>4.443144</td>\n",
       "    </tr>\n",
       "    <tr>\n",
       "      <th>std</th>\n",
       "      <td>2.895897</td>\n",
       "    </tr>\n",
       "    <tr>\n",
       "      <th>min</th>\n",
       "      <td>0.000000</td>\n",
       "    </tr>\n",
       "    <tr>\n",
       "      <th>25%</th>\n",
       "      <td>2.000000</td>\n",
       "    </tr>\n",
       "    <tr>\n",
       "      <th>50%</th>\n",
       "      <td>4.000000</td>\n",
       "    </tr>\n",
       "    <tr>\n",
       "      <th>75%</th>\n",
       "      <td>7.000000</td>\n",
       "    </tr>\n",
       "    <tr>\n",
       "      <th>max</th>\n",
       "      <td>9.000000</td>\n",
       "    </tr>\n",
       "  </tbody>\n",
       "</table>\n",
       "</div>"
      ],
      "text/plain": [
       "                 7\n",
       "count  9999.000000\n",
       "mean      4.443144\n",
       "std       2.895897\n",
       "min       0.000000\n",
       "25%       2.000000\n",
       "50%       4.000000\n",
       "75%       7.000000\n",
       "max       9.000000"
      ]
     },
     "execution_count": 7,
     "metadata": {},
     "output_type": "execute_result"
    }
   ],
   "source": [
    "label.describe()"
   ]
  },
  {
   "cell_type": "code",
   "execution_count": 8,
   "id": "11534078",
   "metadata": {
    "execution": {
     "iopub.execute_input": "2022-11-22T15:26:59.331550Z",
     "iopub.status.busy": "2022-11-22T15:26:59.331099Z",
     "iopub.status.idle": "2022-11-22T15:26:59.343052Z",
     "shell.execute_reply": "2022-11-22T15:26:59.341778Z"
    },
    "papermill": {
     "duration": 0.024904,
     "end_time": "2022-11-22T15:26:59.345948",
     "exception": false,
     "start_time": "2022-11-22T15:26:59.321044",
     "status": "completed"
    },
    "tags": []
   },
   "outputs": [],
   "source": [
    "def euclidean_dist (pcentroids, data):\n",
    "    edist = np.zeros((len(pcentroids),len(data)))\n",
    "    for i in range(len(pcentroids)):\n",
    "        euc_dist = []\n",
    "        for point in data:\n",
    "            euc_dist.append(np.sqrt(np.sum(np.square(point-pcentroids[i]))))\n",
    "        edist[i] = euc_dist\n",
    "    return edist\n",
    "\n",
    "def cosine_dist (pcentroids, data):\n",
    "    cdist = np.zeros((len(pcentroids),len(data)))\n",
    "    for i in range(len(pcentroids)):\n",
    "        cos_dist = []\n",
    "        for point in data:\n",
    "            cos_dist.append(1 - (np.dot(pcentroids[i],point)/(np.linalg.norm(pcentroids[i])*np.linalg.norm(point))))\n",
    "        cdist[i] = cos_dist\n",
    "    return cdist\n",
    "def jaccard_dist (pcentroids, data):\n",
    "    jdist = np.zeros((len(pcentroids),len(data)))\n",
    "    for i in range(len(pcentroids)):\n",
    "        jac_dist = []\n",
    "        for point in data:\n",
    "            min_arr = np.minimum(pcentroids[i], point)\n",
    "            max_arr = np.maximum(pcentroids[i], point)\n",
    "            jac_dist.append(1-(np.sum(min_arr)/np.sum(max_arr)))\n",
    "        jdist[i] = jac_dist\n",
    "    return jdist"
   ]
  },
  {
   "cell_type": "code",
   "execution_count": 9,
   "id": "5193de86",
   "metadata": {
    "execution": {
     "iopub.execute_input": "2022-11-22T15:26:59.366060Z",
     "iopub.status.busy": "2022-11-22T15:26:59.365246Z",
     "iopub.status.idle": "2022-11-22T15:26:59.386816Z",
     "shell.execute_reply": "2022-11-22T15:26:59.385610Z"
    },
    "papermill": {
     "duration": 0.034366,
     "end_time": "2022-11-22T15:26:59.389283",
     "exception": false,
     "start_time": "2022-11-22T15:26:59.354917",
     "status": "completed"
    },
    "tags": []
   },
   "outputs": [],
   "source": [
    "np.random.seed(123)\n",
    "\n",
    "def stop_conditions(iter, centroids, old_centroids):\n",
    "    if np.array_equal(old_centroids, centroids) or iter == 100:\n",
    "        return False\n",
    "    return True\n",
    "\n",
    "def find_labels (dist, centroids, data):\n",
    "    labels = np.array([])\n",
    "    for i in range(len(data)):\n",
    "        index = np.where(dist == np.min(dist[:,i]))\n",
    "        labels = np.append(labels, index[0][0])\n",
    "    return labels\n",
    "\n",
    "def calculate_centroid(data, labels, pcentroids, k, features):\n",
    "    ncentroids = np.zeros((k, features))\n",
    "    temp = [0]*k\n",
    "    for i in range(len(data)):\n",
    "        temp[labels[i]] += 1\n",
    "        ncentroids[labels[i]] += data[i]\n",
    "    for i in range(k):\n",
    "        if temp[i] != 0:\n",
    "            ncentroids[i] = ncentroids[i]/temp[i]\n",
    "        else:\n",
    "            ncentroids[i] = pcentroids[i]\n",
    "    return ncentroids\n",
    "\n",
    "def K_Means (data, k_centroids, dist_method, stop_criteria, flag):\n",
    "    \n",
    "    features = len(data[0])\n",
    "    cur_centroids = np.zeros((k_centroids, features))\n",
    "    for i in range(k_centroids):\n",
    "        r = np.random.randint(0, features+1)\n",
    "        cur_centroids[i, :] = data[r]\n",
    "    \n",
    "    current_iter = 0\n",
    "    pcentroids = np.zeros((k_centroids, features))\n",
    "    labels = None\n",
    "    old_sse = np.Inf\n",
    "    sse = np.Inf\n",
    "    \n",
    "    if (stop_criteria == 1):\n",
    "        while stop_conditions(current_iter, cur_centroids, pcentroids):\n",
    "            pcentroids = cur_centroids\n",
    "            current_iter += 1\n",
    "            if (dist_method == 'euclidean'):\n",
    "                dist = euclidean_dist(pcentroids, data)\n",
    "            elif (dist_method == 'cosine'):\n",
    "                dist = cosine_dist(pcentroids, data)\n",
    "            elif (dist_method == 'jaccard'):\n",
    "                dist = jaccard_dist(pcentroids, data)\n",
    "            else:\n",
    "                print('Wrong distance name')\n",
    "                return\n",
    "            labels = find_labels(dist, pcentroids, data)\n",
    "            cur_centroids = calculate_centroid(data, labels.astype(int), pcentroids, k_centroids, features)\n",
    "    elif (stop_criteria == 2):\n",
    "        while stop_conditions_2(current_iter, cur_centroids, pcentroids, old_sse, sse):\n",
    "            old_sse = sse\n",
    "            pcentroids = cur_centroids\n",
    "            current_iter += 1\n",
    "            if (dist_method == 'euclidean'):\n",
    "                dist = euclidean_dist(pcentroids, data)\n",
    "            elif (dist_method == 'cosine'):\n",
    "                dist = cosine_dist(pcentroids, data)\n",
    "            elif (dist_method == 'jaccard'):\n",
    "                dist = jaccard_dist(pcentroids, data)\n",
    "            else:\n",
    "                print('Wrong distance name')\n",
    "                return\n",
    "            labels = find_labels(dist, pcentroids, data)\n",
    "            cur_centroids = calculate_centroid(data, labels.astype(int), pcentroids, k_centroids, features)\n",
    "            sse = SSE(cur_centroids, labels.astype(int), data)\n",
    "    else:\n",
    "        while stop_conditions_3(current_iter, cur_centroids, pcentroids, old_sse, sse, flag):\n",
    "            old_sse = sse\n",
    "            pcentroids = cur_centroids\n",
    "            current_iter += 1\n",
    "            if (dist_method == 'euclidean'):\n",
    "                dist = euclidean_dist(pcentroids, data)\n",
    "            elif (dist_method == 'cosine'):\n",
    "                dist = cosine_dist(pcentroids, data)\n",
    "            elif (dist_method == 'jaccard'):\n",
    "                dist = jaccard_dist(pcentroids, data)\n",
    "            else:\n",
    "                print('Wrong distance name')\n",
    "                return\n",
    "            labels = find_labels(dist, pcentroids, data)\n",
    "            cur_centroids = calculate_centroid(data, labels.astype(int), pcentroids, k_centroids, features)\n",
    "            sse = SSE(cur_centroids, labels.astype(int), data)\n",
    "    print(dist_method, ' ', 'Iterations total : ', current_iter)\n",
    "    return cur_centroids, labels\n",
    "        \n",
    "            \n"
   ]
  },
  {
   "cell_type": "code",
   "execution_count": 10,
   "id": "6173a065",
   "metadata": {
    "execution": {
     "iopub.execute_input": "2022-11-22T15:26:59.409123Z",
     "iopub.status.busy": "2022-11-22T15:26:59.408710Z",
     "iopub.status.idle": "2022-11-22T15:43:49.053622Z",
     "shell.execute_reply": "2022-11-22T15:43:49.052311Z"
    },
    "papermill": {
     "duration": 1009.666549,
     "end_time": "2022-11-22T15:43:49.064509",
     "exception": false,
     "start_time": "2022-11-22T15:26:59.397960",
     "status": "completed"
    },
    "tags": []
   },
   "outputs": [
    {
     "name": "stdout",
     "output_type": "stream",
     "text": [
      "euclidean   Iterations total :  71\n",
      "cosine   Iterations total :  85\n",
      "jaccard   Iterations total :  45\n"
     ]
    }
   ],
   "source": [
    "\n",
    "E_centroids, E_labels = K_Means(data.to_numpy(), 10, 'euclidean', 1, 1)\n",
    "C_centroids, C_labels = K_Means(data.to_numpy(), 10, 'cosine', 1, 1)\n",
    "J_centroids, J_labels = K_Means(data.to_numpy(), 10, 'jaccard', 1, 1)"
   ]
  },
  {
   "cell_type": "code",
   "execution_count": 11,
   "id": "666f9196",
   "metadata": {
    "execution": {
     "iopub.execute_input": "2022-11-22T15:43:49.085218Z",
     "iopub.status.busy": "2022-11-22T15:43:49.084233Z",
     "iopub.status.idle": "2022-11-22T15:43:49.514351Z",
     "shell.execute_reply": "2022-11-22T15:43:49.512990Z"
    },
    "papermill": {
     "duration": 0.443827,
     "end_time": "2022-11-22T15:43:49.517148",
     "exception": false,
     "start_time": "2022-11-22T15:43:49.073321",
     "status": "completed"
    },
    "scrolled": true,
    "tags": []
   },
   "outputs": [
    {
     "name": "stdout",
     "output_type": "stream",
     "text": [
      "SSE of Euclidean K-Means:  25318301268.749744\n",
      "SSE of Cosine K-Means:  25411581642.345028\n",
      "SSE of Jaccard K-Means:  25483177207.831245\n"
     ]
    }
   ],
   "source": [
    "def SSE (centroids, labels, data):\n",
    "    x = 0\n",
    "    for i in range(len(data)):\n",
    "        index = labels[i]\n",
    "        x += np.sum(np.square(data[i]-centroids[index]))\n",
    "    return x\n",
    "E_SSE = SSE (E_centroids, E_labels.astype(int), data.to_numpy())\n",
    "C_SSE = SSE (C_centroids, C_labels.astype(int), data.to_numpy())\n",
    "J_SSE = SSE (J_centroids, J_labels.astype(int), data.to_numpy())\n",
    "\n",
    "print('SSE of Euclidean K-Means: ', E_SSE)\n",
    "print('SSE of Cosine K-Means: ', C_SSE)\n",
    "print('SSE of Jaccard K-Means: ', J_SSE)\n",
    "        "
   ]
  },
  {
   "cell_type": "code",
   "execution_count": 12,
   "id": "f79aa782",
   "metadata": {
    "execution": {
     "iopub.execute_input": "2022-11-22T15:43:49.537732Z",
     "iopub.status.busy": "2022-11-22T15:43:49.536882Z",
     "iopub.status.idle": "2022-11-22T15:43:49.551874Z",
     "shell.execute_reply": "2022-11-22T15:43:49.550741Z"
    },
    "papermill": {
     "duration": 0.028009,
     "end_time": "2022-11-22T15:43:49.554352",
     "exception": false,
     "start_time": "2022-11-22T15:43:49.526343",
     "status": "completed"
    },
    "tags": []
   },
   "outputs": [
    {
     "data": {
      "text/html": [
       "<div>\n",
       "<style scoped>\n",
       "    .dataframe tbody tr th:only-of-type {\n",
       "        vertical-align: middle;\n",
       "    }\n",
       "\n",
       "    .dataframe tbody tr th {\n",
       "        vertical-align: top;\n",
       "    }\n",
       "\n",
       "    .dataframe thead th {\n",
       "        text-align: right;\n",
       "    }\n",
       "</style>\n",
       "<table border=\"1\" class=\"dataframe\">\n",
       "  <thead>\n",
       "    <tr style=\"text-align: right;\">\n",
       "      <th></th>\n",
       "      <th>Similarity metrics</th>\n",
       "      <th>SSE</th>\n",
       "    </tr>\n",
       "  </thead>\n",
       "  <tbody>\n",
       "    <tr>\n",
       "      <th>0</th>\n",
       "      <td>Euclidean K-Means</td>\n",
       "      <td>2.531830e+10</td>\n",
       "    </tr>\n",
       "    <tr>\n",
       "      <th>1</th>\n",
       "      <td>Cosine K-Means</td>\n",
       "      <td>2.541158e+10</td>\n",
       "    </tr>\n",
       "    <tr>\n",
       "      <th>2</th>\n",
       "      <td>Jaccard K-Means</td>\n",
       "      <td>2.548318e+10</td>\n",
       "    </tr>\n",
       "  </tbody>\n",
       "</table>\n",
       "</div>"
      ],
      "text/plain": [
       "  Similarity metrics           SSE\n",
       "0  Euclidean K-Means  2.531830e+10\n",
       "1     Cosine K-Means  2.541158e+10\n",
       "2    Jaccard K-Means  2.548318e+10"
      ]
     },
     "execution_count": 12,
     "metadata": {},
     "output_type": "execute_result"
    }
   ],
   "source": [
    "SSE_table = pd.DataFrame({\n",
    "    'Similarity metrics': ['Euclidean K-Means', 'Cosine K-Means', 'Jaccard K-Means'],\n",
    "    'SSE': [E_SSE, C_SSE, J_SSE],\n",
    "})\n",
    "SSE_table.sort_values(by='SSE', ascending=True)"
   ]
  },
  {
   "cell_type": "markdown",
   "id": "849b1549",
   "metadata": {
    "papermill": {
     "duration": 0.008786,
     "end_time": "2022-11-22T15:43:49.572382",
     "exception": false,
     "start_time": "2022-11-22T15:43:49.563596",
     "status": "completed"
    },
    "tags": []
   },
   "source": [
    "## Evaluating the SSE values\n",
    "\n",
    "Based on the following SSE values obtained during testing:\n",
    "- Euclidean SSE:  25318301268.749744\n",
    "- Cosine SSE:  25411581642.345028\n",
    "- jaccard SSE:  25483177207.831245\n",
    "\n",
    "It would seem that the Euclidean method has the least error since it had the lowest SSE score."
   ]
  },
  {
   "cell_type": "markdown",
   "id": "4232e498",
   "metadata": {
    "papermill": {
     "duration": 0.008701,
     "end_time": "2022-11-22T15:43:49.590170",
     "exception": false,
     "start_time": "2022-11-22T15:43:49.581469",
     "status": "completed"
    },
    "tags": []
   },
   "source": [
    "# Q2\n",
    "## Comparing the accuracies"
   ]
  },
  {
   "cell_type": "code",
   "execution_count": 13,
   "id": "177dfd07",
   "metadata": {
    "execution": {
     "iopub.execute_input": "2022-11-22T15:43:49.610342Z",
     "iopub.status.busy": "2022-11-22T15:43:49.609960Z",
     "iopub.status.idle": "2022-11-22T15:43:50.017285Z",
     "shell.execute_reply": "2022-11-22T15:43:50.015989Z"
    },
    "papermill": {
     "duration": 0.419929,
     "end_time": "2022-11-22T15:43:50.019678",
     "exception": false,
     "start_time": "2022-11-22T15:43:49.599749",
     "status": "completed"
    },
    "tags": []
   },
   "outputs": [
    {
     "name": "stdout",
     "output_type": "stream",
     "text": [
      "Euclidean K-Means Accuracy:  0.5942594259425943\n",
      "Cosine K-Means Accuracy:  0.6140614061406141\n",
      "Jaccard K-Means Accuracy:  0.6233623362336234\n"
     ]
    }
   ],
   "source": [
    "def find_accuracy (centroids, centroid_labels, original_label):\n",
    "    label_map = {}\n",
    "    x = 0\n",
    "    for i in range(len(centroid_labels)):\n",
    "        if centroid_labels[i] in label_map:\n",
    "            label_map[centroid_labels[i]] = np.append(label_map[centroid_labels[i]], original_label['7'][i])\n",
    "        else: \n",
    "            label_map[centroid_labels[i]] = np.array([original_label['7'][i]])\n",
    "    for i in range(len(centroids)):\n",
    "        if i in label_map:\n",
    "            vote = np.bincount(label_map[i]).argmax()\n",
    "            x += np.count_nonzero(label_map[i] == vote)\n",
    "    return x/len(original_label)\n",
    "\n",
    "E_accuracy = find_accuracy(E_centroids, E_labels, label)\n",
    "C_accuracy = find_accuracy(C_centroids, C_labels, label)\n",
    "J_accuracy = find_accuracy(J_centroids, J_labels, label)\n",
    "\n",
    "print ('Euclidean K-Means Accuracy: ', E_accuracy)\n",
    "print('Cosine K-Means Accuracy: ', C_accuracy)\n",
    "print('Jaccard K-Means Accuracy: ', J_accuracy)"
   ]
  },
  {
   "cell_type": "code",
   "execution_count": 14,
   "id": "588b6281",
   "metadata": {
    "execution": {
     "iopub.execute_input": "2022-11-22T15:43:50.040252Z",
     "iopub.status.busy": "2022-11-22T15:43:50.039863Z",
     "iopub.status.idle": "2022-11-22T15:43:50.052545Z",
     "shell.execute_reply": "2022-11-22T15:43:50.051361Z"
    },
    "papermill": {
     "duration": 0.025318,
     "end_time": "2022-11-22T15:43:50.054841",
     "exception": false,
     "start_time": "2022-11-22T15:43:50.029523",
     "status": "completed"
    },
    "tags": []
   },
   "outputs": [
    {
     "data": {
      "text/html": [
       "<div>\n",
       "<style scoped>\n",
       "    .dataframe tbody tr th:only-of-type {\n",
       "        vertical-align: middle;\n",
       "    }\n",
       "\n",
       "    .dataframe tbody tr th {\n",
       "        vertical-align: top;\n",
       "    }\n",
       "\n",
       "    .dataframe thead th {\n",
       "        text-align: right;\n",
       "    }\n",
       "</style>\n",
       "<table border=\"1\" class=\"dataframe\">\n",
       "  <thead>\n",
       "    <tr style=\"text-align: right;\">\n",
       "      <th></th>\n",
       "      <th>Similarity metrics</th>\n",
       "      <th>Accuracy</th>\n",
       "    </tr>\n",
       "  </thead>\n",
       "  <tbody>\n",
       "    <tr>\n",
       "      <th>2</th>\n",
       "      <td>Jaccard K-Means</td>\n",
       "      <td>0.623362</td>\n",
       "    </tr>\n",
       "    <tr>\n",
       "      <th>1</th>\n",
       "      <td>Cosine K-Means</td>\n",
       "      <td>0.614061</td>\n",
       "    </tr>\n",
       "    <tr>\n",
       "      <th>0</th>\n",
       "      <td>Euclidean K-Means</td>\n",
       "      <td>0.594259</td>\n",
       "    </tr>\n",
       "  </tbody>\n",
       "</table>\n",
       "</div>"
      ],
      "text/plain": [
       "  Similarity metrics  Accuracy\n",
       "2    Jaccard K-Means  0.623362\n",
       "1     Cosine K-Means  0.614061\n",
       "0  Euclidean K-Means  0.594259"
      ]
     },
     "execution_count": 14,
     "metadata": {},
     "output_type": "execute_result"
    }
   ],
   "source": [
    "accuracy_table = pd.DataFrame({\n",
    "    'Similarity metrics': ['Euclidean K-Means', 'Cosine K-Means', 'Jaccard K-Means'],\n",
    "    'Accuracy': [E_accuracy, C_accuracy, J_accuracy],\n",
    "})\n",
    "accuracy_table.sort_values(by='Accuracy', ascending=False)"
   ]
  },
  {
   "cell_type": "markdown",
   "id": "73a7457f",
   "metadata": {
    "papermill": {
     "duration": 0.009397,
     "end_time": "2022-11-22T15:43:50.073540",
     "exception": false,
     "start_time": "2022-11-22T15:43:50.064143",
     "status": "completed"
    },
    "tags": []
   },
   "source": [
    "## Analyzing accuracies\n",
    "\n",
    "Based on the following accuracy scores obtained through testing:\n",
    "- Euclidean Accuracy:  0.5942594259425943\n",
    "- Cosine Accuracy:  0.6140614061406141\n",
    "- jaccard Accuracy:  0.6233623362336234\n",
    "\n",
    "It would seem that the jaccard is the most accurate model based on the results of testing"
   ]
  },
  {
   "cell_type": "markdown",
   "id": "2d771300",
   "metadata": {
    "papermill": {
     "duration": 0.008924,
     "end_time": "2022-11-22T15:43:50.091778",
     "exception": false,
     "start_time": "2022-11-22T15:43:50.082854",
     "status": "completed"
    },
    "tags": []
   },
   "source": [
    "# Q3\n",
    "## Modifiying stop criteria to include SSE"
   ]
  },
  {
   "cell_type": "code",
   "execution_count": 15,
   "id": "f43eea0d",
   "metadata": {
    "execution": {
     "iopub.execute_input": "2022-11-22T15:43:50.112254Z",
     "iopub.status.busy": "2022-11-22T15:43:50.111876Z",
     "iopub.status.idle": "2022-11-22T15:57:03.066395Z",
     "shell.execute_reply": "2022-11-22T15:57:03.064997Z"
    },
    "papermill": {
     "duration": 792.97614,
     "end_time": "2022-11-22T15:57:03.077360",
     "exception": false,
     "start_time": "2022-11-22T15:43:50.101220",
     "status": "completed"
    },
    "tags": []
   },
   "outputs": [
    {
     "name": "stdout",
     "output_type": "stream",
     "text": [
      "euclidean   Iterations total :  93\n",
      "cosine   Iterations total :  27\n",
      "jaccard   Iterations total :  38\n"
     ]
    }
   ],
   "source": [
    "def stop_conditions_2 (iter, centroids, old_centroids, old_sse, sse):\n",
    "    if (iter != 0):\n",
    "        if np.array_equal(old_centroids, centroids) or iter == 100 or sse >= old_sse:\n",
    "            return False\n",
    "    return True\n",
    "E_centroids, E_labels = K_Means(data.to_numpy(), 10, 'euclidean', 2, 1)\n",
    "C_centroids, C_labels = K_Means(data.to_numpy(), 10, 'cosine', 2, 1)\n",
    "J_centroids, J_labels = K_Means(data.to_numpy(), 10, 'jaccard', 2, 1)\n",
    "\n"
   ]
  },
  {
   "cell_type": "markdown",
   "id": "4d1a2945",
   "metadata": {
    "papermill": {
     "duration": 0.009063,
     "end_time": "2022-11-22T15:57:03.095818",
     "exception": false,
     "start_time": "2022-11-22T15:57:03.086755",
     "status": "completed"
    },
    "tags": []
   },
   "source": [
    "## Comparing iters/times of models with modified stop criteria\n",
    "Based on the results obtained during testing:\n",
    "- iters till convergence:\n",
    "    - Euclidean: 93\n",
    "    - Cosine: 27\n",
    "    - jaccard: 38\n",
    "- Times: Each function runs around the same amount of time per iter so the shortest time was Cosine followed by jaccard and lastly the slowest was euclidean due to the massive number of iters this attempt took to converge"
   ]
  },
  {
   "cell_type": "markdown",
   "id": "6cca5e44",
   "metadata": {
    "papermill": {
     "duration": 0.00908,
     "end_time": "2022-11-22T15:57:03.114362",
     "exception": false,
     "start_time": "2022-11-22T15:57:03.105282",
     "status": "completed"
    },
    "tags": []
   },
   "source": [
    "# Q4\n",
    "## Modify stop conditions to consider only one terminating condition"
   ]
  },
  {
   "cell_type": "code",
   "execution_count": 16,
   "id": "d6eeb712",
   "metadata": {
    "execution": {
     "iopub.execute_input": "2022-11-22T15:57:03.136505Z",
     "iopub.status.busy": "2022-11-22T15:57:03.135681Z",
     "iopub.status.idle": "2022-11-22T16:48:51.572188Z",
     "shell.execute_reply": "2022-11-22T16:48:51.570929Z"
    },
    "papermill": {
     "duration": 3108.460747,
     "end_time": "2022-11-22T16:48:51.584583",
     "exception": false,
     "start_time": "2022-11-22T15:57:03.123836",
     "status": "completed"
    },
    "tags": []
   },
   "outputs": [
    {
     "name": "stdout",
     "output_type": "stream",
     "text": [
      "euclidean   Iterations total :  38\n",
      "euclidean   Iterations total :  36\n",
      "euclidean   Iterations total :  100\n",
      "cosine   Iterations total :  59\n",
      "cosine   Iterations total :  53\n",
      "cosine   Iterations total :  100\n",
      "jaccard   Iterations total :  60\n",
      "jaccard   Iterations total :  47\n",
      "jaccard   Iterations total :  100\n"
     ]
    }
   ],
   "source": [
    "def stop_conditions_3 (iter, centroids, old_centroids, old_sse, sse, flag):\n",
    "    if (iter != 0):\n",
    "        if (flag == 1):\n",
    "            if np.array_equal(old_centroids, centroids):\n",
    "                return False\n",
    "        elif (flag == 2):\n",
    "            if (sse >= old_sse):\n",
    "                return False\n",
    "        elif (flag == 3):\n",
    "            if (iter == 100):\n",
    "                return False\n",
    "    return True\n",
    "\n",
    "\n",
    "E_centroids_pos, E_labels_pos = K_Means(data.to_numpy(), 10, 'euclidean', 3, 1)\n",
    "E_centroids_sse, E_labels_sse = K_Means(data.to_numpy(), 10, 'euclidean', 3, 2)\n",
    "E_centroids_iter, E_labels_iter = K_Means(data.to_numpy(), 10, 'euclidean', 3, 3)\n",
    " \n",
    "C_centroids_pos, C_labels_pos = K_Means(data.to_numpy(), 10, 'cosine', 3, 1)\n",
    "C_centroids_sse, C_labels_sse = K_Means(data.to_numpy(), 10, 'cosine', 3, 2)\n",
    "C_centroids_iter, C_labels_iter = K_Means(data.to_numpy(), 10, 'cosine', 3, 3)\n",
    "\n",
    "\n",
    "J_centroids_pos, J_labels_pos = K_Means(data.to_numpy(), 10, 'jaccard', 3, 1)\n",
    "J_centroids_sse, J_labels_sse = K_Means(data.to_numpy(), 10, 'jaccard', 3, 2)\n",
    "J_centroids_iter, J_labels_iter = K_Means(data.to_numpy(), 10, 'jaccard', 3, 3)\n"
   ]
  },
  {
   "cell_type": "markdown",
   "id": "69a7f9b6",
   "metadata": {
    "papermill": {
     "duration": 0.009646,
     "end_time": "2022-11-22T16:48:51.604193",
     "exception": false,
     "start_time": "2022-11-22T16:48:51.594547",
     "status": "completed"
    },
    "tags": []
   },
   "source": [
    "## Calculate SSE for each model"
   ]
  },
  {
   "cell_type": "code",
   "execution_count": 17,
   "id": "172cb329",
   "metadata": {
    "execution": {
     "iopub.execute_input": "2022-11-22T16:48:51.625926Z",
     "iopub.status.busy": "2022-11-22T16:48:51.625558Z",
     "iopub.status.idle": "2022-11-22T16:48:52.846155Z",
     "shell.execute_reply": "2022-11-22T16:48:52.844941Z"
    },
    "papermill": {
     "duration": 1.235196,
     "end_time": "2022-11-22T16:48:52.849318",
     "exception": false,
     "start_time": "2022-11-22T16:48:51.614122",
     "status": "completed"
    },
    "scrolled": true,
    "tags": []
   },
   "outputs": [
    {
     "name": "stdout",
     "output_type": "stream",
     "text": [
      "Euclidean SSEs wrt stop criteria: \n",
      "Centroids converge:  25321994318.21326\n",
      "New SSE is larger than previous SSE:  25495249192.75157\n",
      "Reached max number of iters (100):  25404775206.395275\n",
      "Cosine SSEs wrt stop criteria: \n",
      "Centroids converge:  25468173815.67823\n",
      "New SSE is larger than previous SSE:  25425454489.886997\n",
      "Reached max number of iters (100):  25416733862.67944\n",
      "jaccard SSEs wrt stop criteria: \n",
      "Centroids converge:  25415230917.736603\n",
      "New SSE is larger than previous SSE:  25434179158.75361\n",
      "Reached max number of iters (100):  25587905239.143787\n"
     ]
    }
   ],
   "source": [
    "# Euclidean dist model SSEs\n",
    "E_SSE_pos = SSE (E_centroids_pos, E_labels_pos.astype(int), data.to_numpy())\n",
    "E_SSE_sse = SSE (E_centroids_sse, E_labels_sse.astype(int), data.to_numpy())\n",
    "E_SSE_iter = SSE (E_centroids_iter, E_labels_iter.astype(int), data.to_numpy())\n",
    "\n",
    "# Cosine dist model SSEs\n",
    "C_SSE_pos = SSE (C_centroids_pos, C_labels_pos.astype(int), data.to_numpy())\n",
    "C_SSE_sse = SSE (C_centroids_sse, C_labels_sse.astype(int), data.to_numpy())\n",
    "C_SSE_iter = SSE (C_centroids_iter, C_labels_iter.astype(int), data.to_numpy())\n",
    "\n",
    "# jaccard dist model SSEs\n",
    "J_SSE_pos = SSE (J_centroids_pos, J_labels_pos.astype(int), data.to_numpy())\n",
    "J_SSE_sse = SSE (J_centroids_sse, J_labels_sse.astype(int), data.to_numpy())\n",
    "J_SSE_iter = SSE (J_centroids_iter, J_labels_iter.astype(int), data.to_numpy())\n",
    "\n",
    "print('Euclidean SSEs wrt stop criteria: ')\n",
    "print ('Centroids converge: ', E_SSE_pos)\n",
    "print('New SSE is larger than previous SSE: ', E_SSE_sse)\n",
    "print('Reached max number of iters (100): ', E_SSE_iter)\n",
    "\n",
    "print('Cosine SSEs wrt stop criteria: ')\n",
    "print ('Centroids converge: ', C_SSE_pos)\n",
    "print('New SSE is larger than previous SSE: ', C_SSE_sse)\n",
    "print('Reached max number of iters (100): ', C_SSE_iter)\n",
    "\n",
    "print('jaccard SSEs wrt stop criteria: ')\n",
    "print ('Centroids converge: ', J_SSE_pos)\n",
    "print('New SSE is larger than previous SSE: ', J_SSE_sse)\n",
    "print('Reached max number of iters (100): ', J_SSE_iter)"
   ]
  },
  {
   "cell_type": "code",
   "execution_count": 18,
   "id": "4f86b778",
   "metadata": {
    "execution": {
     "iopub.execute_input": "2022-11-22T16:48:52.872387Z",
     "iopub.status.busy": "2022-11-22T16:48:52.871943Z",
     "iopub.status.idle": "2022-11-22T16:48:52.889700Z",
     "shell.execute_reply": "2022-11-22T16:48:52.888132Z"
    },
    "papermill": {
     "duration": 0.03251,
     "end_time": "2022-11-22T16:48:52.893090",
     "exception": false,
     "start_time": "2022-11-22T16:48:52.860580",
     "status": "completed"
    },
    "tags": []
   },
   "outputs": [
    {
     "name": "stdout",
     "output_type": "stream",
     "text": [
      "Similarity metric with Best Centroid Convergence : \n"
     ]
    },
    {
     "data": {
      "text/html": [
       "<div>\n",
       "<style scoped>\n",
       "    .dataframe tbody tr th:only-of-type {\n",
       "        vertical-align: middle;\n",
       "    }\n",
       "\n",
       "    .dataframe tbody tr th {\n",
       "        vertical-align: top;\n",
       "    }\n",
       "\n",
       "    .dataframe thead th {\n",
       "        text-align: right;\n",
       "    }\n",
       "</style>\n",
       "<table border=\"1\" class=\"dataframe\">\n",
       "  <thead>\n",
       "    <tr style=\"text-align: right;\">\n",
       "      <th></th>\n",
       "      <th>Similarity metrics</th>\n",
       "      <th>Centroids Convergence</th>\n",
       "      <th>Previous SSE</th>\n",
       "      <th>New SSE</th>\n",
       "      <th>Max Iterations</th>\n",
       "    </tr>\n",
       "  </thead>\n",
       "  <tbody>\n",
       "    <tr>\n",
       "      <th>1</th>\n",
       "      <td>Cosine SSE</td>\n",
       "      <td>2.546817e+10</td>\n",
       "      <td>2.541158e+10</td>\n",
       "      <td>2.542545e+10</td>\n",
       "      <td>2.541673e+10</td>\n",
       "    </tr>\n",
       "    <tr>\n",
       "      <th>2</th>\n",
       "      <td>Jaccard SSE</td>\n",
       "      <td>2.541523e+10</td>\n",
       "      <td>2.548318e+10</td>\n",
       "      <td>2.543418e+10</td>\n",
       "      <td>2.558791e+10</td>\n",
       "    </tr>\n",
       "    <tr>\n",
       "      <th>0</th>\n",
       "      <td>Euclidean SSE</td>\n",
       "      <td>2.532199e+10</td>\n",
       "      <td>2.531830e+10</td>\n",
       "      <td>2.549525e+10</td>\n",
       "      <td>2.540478e+10</td>\n",
       "    </tr>\n",
       "  </tbody>\n",
       "</table>\n",
       "</div>"
      ],
      "text/plain": [
       "  Similarity metrics  Centroids Convergence  Previous SSE       New SSE  \\\n",
       "1         Cosine SSE           2.546817e+10  2.541158e+10  2.542545e+10   \n",
       "2        Jaccard SSE           2.541523e+10  2.548318e+10  2.543418e+10   \n",
       "0      Euclidean SSE           2.532199e+10  2.531830e+10  2.549525e+10   \n",
       "\n",
       "   Max Iterations  \n",
       "1    2.541673e+10  \n",
       "2    2.558791e+10  \n",
       "0    2.540478e+10  "
      ]
     },
     "execution_count": 18,
     "metadata": {},
     "output_type": "execute_result"
    }
   ],
   "source": [
    "newSSE_table = pd.DataFrame({\n",
    "    'Similarity metrics': ['Euclidean SSE', 'Cosine SSE', 'Jaccard SSE'],\n",
    "    'Centroids Convergence': [E_SSE_pos, C_SSE_pos, J_SSE_pos],\n",
    "    'Previous SSE': [E_SSE, C_SSE, J_SSE],\n",
    "    'New SSE': [E_SSE_sse, C_SSE_sse, J_SSE_sse],\n",
    "    'Max Iterations': [E_SSE_iter, C_SSE_iter, J_SSE_iter],\n",
    "})\n",
    "print(\"Similarity metric with Best Centroid Convergence : \")\n",
    "newSSE_table.sort_values(by='Centroids Convergence', ascending=False)\n",
    "\n"
   ]
  },
  {
   "cell_type": "code",
   "execution_count": 19,
   "id": "812508a9",
   "metadata": {
    "execution": {
     "iopub.execute_input": "2022-11-22T16:48:52.915407Z",
     "iopub.status.busy": "2022-11-22T16:48:52.915036Z",
     "iopub.status.idle": "2022-11-22T16:48:52.931589Z",
     "shell.execute_reply": "2022-11-22T16:48:52.930126Z"
    },
    "papermill": {
     "duration": 0.030424,
     "end_time": "2022-11-22T16:48:52.934038",
     "exception": false,
     "start_time": "2022-11-22T16:48:52.903614",
     "status": "completed"
    },
    "tags": []
   },
   "outputs": [
    {
     "name": "stdout",
     "output_type": "stream",
     "text": [
      "Similarity metric with Best SSE : \n"
     ]
    },
    {
     "data": {
      "text/html": [
       "<div>\n",
       "<style scoped>\n",
       "    .dataframe tbody tr th:only-of-type {\n",
       "        vertical-align: middle;\n",
       "    }\n",
       "\n",
       "    .dataframe tbody tr th {\n",
       "        vertical-align: top;\n",
       "    }\n",
       "\n",
       "    .dataframe thead th {\n",
       "        text-align: right;\n",
       "    }\n",
       "</style>\n",
       "<table border=\"1\" class=\"dataframe\">\n",
       "  <thead>\n",
       "    <tr style=\"text-align: right;\">\n",
       "      <th></th>\n",
       "      <th>Similarity metrics</th>\n",
       "      <th>Centroids Convergence</th>\n",
       "      <th>Previous SSE</th>\n",
       "      <th>New SSE</th>\n",
       "      <th>Max Iterations</th>\n",
       "    </tr>\n",
       "  </thead>\n",
       "  <tbody>\n",
       "    <tr>\n",
       "      <th>1</th>\n",
       "      <td>Cosine SSE</td>\n",
       "      <td>2.546817e+10</td>\n",
       "      <td>2.541158e+10</td>\n",
       "      <td>2.542545e+10</td>\n",
       "      <td>2.541673e+10</td>\n",
       "    </tr>\n",
       "    <tr>\n",
       "      <th>2</th>\n",
       "      <td>Jaccard SSE</td>\n",
       "      <td>2.541523e+10</td>\n",
       "      <td>2.548318e+10</td>\n",
       "      <td>2.543418e+10</td>\n",
       "      <td>2.558791e+10</td>\n",
       "    </tr>\n",
       "    <tr>\n",
       "      <th>0</th>\n",
       "      <td>Euclidean SSE</td>\n",
       "      <td>2.532199e+10</td>\n",
       "      <td>2.531830e+10</td>\n",
       "      <td>2.549525e+10</td>\n",
       "      <td>2.540478e+10</td>\n",
       "    </tr>\n",
       "  </tbody>\n",
       "</table>\n",
       "</div>"
      ],
      "text/plain": [
       "  Similarity metrics  Centroids Convergence  Previous SSE       New SSE  \\\n",
       "1         Cosine SSE           2.546817e+10  2.541158e+10  2.542545e+10   \n",
       "2        Jaccard SSE           2.541523e+10  2.548318e+10  2.543418e+10   \n",
       "0      Euclidean SSE           2.532199e+10  2.531830e+10  2.549525e+10   \n",
       "\n",
       "   Max Iterations  \n",
       "1    2.541673e+10  \n",
       "2    2.558791e+10  \n",
       "0    2.540478e+10  "
      ]
     },
     "execution_count": 19,
     "metadata": {},
     "output_type": "execute_result"
    }
   ],
   "source": [
    "print(\"Similarity metric with Best SSE : \")\n",
    "newSSE_table.sort_values(by='New SSE', ascending=True)\n",
    "\n"
   ]
  },
  {
   "cell_type": "code",
   "execution_count": 20,
   "id": "08249fa2",
   "metadata": {
    "execution": {
     "iopub.execute_input": "2022-11-22T16:48:52.956923Z",
     "iopub.status.busy": "2022-11-22T16:48:52.956493Z",
     "iopub.status.idle": "2022-11-22T16:48:52.971724Z",
     "shell.execute_reply": "2022-11-22T16:48:52.970057Z"
    },
    "papermill": {
     "duration": 0.029338,
     "end_time": "2022-11-22T16:48:52.974087",
     "exception": false,
     "start_time": "2022-11-22T16:48:52.944749",
     "status": "completed"
    },
    "tags": []
   },
   "outputs": [
    {
     "name": "stdout",
     "output_type": "stream",
     "text": [
      "Similarity metric with least iteration number : \n"
     ]
    },
    {
     "data": {
      "text/html": [
       "<div>\n",
       "<style scoped>\n",
       "    .dataframe tbody tr th:only-of-type {\n",
       "        vertical-align: middle;\n",
       "    }\n",
       "\n",
       "    .dataframe tbody tr th {\n",
       "        vertical-align: top;\n",
       "    }\n",
       "\n",
       "    .dataframe thead th {\n",
       "        text-align: right;\n",
       "    }\n",
       "</style>\n",
       "<table border=\"1\" class=\"dataframe\">\n",
       "  <thead>\n",
       "    <tr style=\"text-align: right;\">\n",
       "      <th></th>\n",
       "      <th>Similarity metrics</th>\n",
       "      <th>Centroids Convergence</th>\n",
       "      <th>Previous SSE</th>\n",
       "      <th>New SSE</th>\n",
       "      <th>Max Iterations</th>\n",
       "    </tr>\n",
       "  </thead>\n",
       "  <tbody>\n",
       "    <tr>\n",
       "      <th>0</th>\n",
       "      <td>Euclidean SSE</td>\n",
       "      <td>2.532199e+10</td>\n",
       "      <td>2.531830e+10</td>\n",
       "      <td>2.549525e+10</td>\n",
       "      <td>2.540478e+10</td>\n",
       "    </tr>\n",
       "    <tr>\n",
       "      <th>1</th>\n",
       "      <td>Cosine SSE</td>\n",
       "      <td>2.546817e+10</td>\n",
       "      <td>2.541158e+10</td>\n",
       "      <td>2.542545e+10</td>\n",
       "      <td>2.541673e+10</td>\n",
       "    </tr>\n",
       "    <tr>\n",
       "      <th>2</th>\n",
       "      <td>Jaccard SSE</td>\n",
       "      <td>2.541523e+10</td>\n",
       "      <td>2.548318e+10</td>\n",
       "      <td>2.543418e+10</td>\n",
       "      <td>2.558791e+10</td>\n",
       "    </tr>\n",
       "  </tbody>\n",
       "</table>\n",
       "</div>"
      ],
      "text/plain": [
       "  Similarity metrics  Centroids Convergence  Previous SSE       New SSE  \\\n",
       "0      Euclidean SSE           2.532199e+10  2.531830e+10  2.549525e+10   \n",
       "1         Cosine SSE           2.546817e+10  2.541158e+10  2.542545e+10   \n",
       "2        Jaccard SSE           2.541523e+10  2.548318e+10  2.543418e+10   \n",
       "\n",
       "   Max Iterations  \n",
       "0    2.540478e+10  \n",
       "1    2.541673e+10  \n",
       "2    2.558791e+10  "
      ]
     },
     "execution_count": 20,
     "metadata": {},
     "output_type": "execute_result"
    }
   ],
   "source": [
    "print(\"Similarity metric with least iteration number : \")\n",
    "newSSE_table.sort_values(by='Max Iterations', ascending=True)"
   ]
  },
  {
   "cell_type": "markdown",
   "id": "a08d2473",
   "metadata": {
    "papermill": {
     "duration": 0.010343,
     "end_time": "2022-11-22T16:48:52.995240",
     "exception": false,
     "start_time": "2022-11-22T16:48:52.984897",
     "status": "completed"
    },
    "tags": []
   },
   "source": [
    "# Compare SSE wrt stop conditions\n",
    "\n",
    "Based on the results obtained during testing:\n",
    "- Euclidean SSEs wrt stop criteria: \n",
    "    - Centroids converge:  25429959337.949955\n",
    "    - New SSE is larger than previous SSE:  25407016682.77918\n",
    "    - Reached max number of iters (100):  25321974749.58356\n",
    "- Cosine SSEs wrt stop criteria: \n",
    "    - Centroids converge:  25555029379.927616\n",
    "    - New SSE is larger than previous SSE:  25610084771.580967\n",
    "    - Reached max number of iters (100):  25561511207.494164\n",
    "- jaccard SSEs wrt stop criteria: \n",
    "    - Centroids converge:  25414464925.44861\n",
    "    - New SSE is larger than previous SSE:  25446594079.129356\n",
    "    - Reached max number of iters (100):  25451185367.17009\n",
    "    \n",
    "The best models determined by SSE wrt to the different stop conditions:\n",
    "- Centroids converge: jaccard\n",
    "- New SSE is larger than previous SSE: Euclidean\n",
    "- Reached max number of iters (100): Euclidean\n",
    "\n",
    "Thus the best overall K_Means model as found from this analysis is Euclidean"
   ]
  },
  {
   "cell_type": "markdown",
   "id": "6c0249ba",
   "metadata": {
    "papermill": {
     "duration": 0.010328,
     "end_time": "2022-11-22T16:48:53.016209",
     "exception": false,
     "start_time": "2022-11-22T16:48:53.005881",
     "status": "completed"
    },
    "tags": []
   },
   "source": [
    "# Q5\n",
    "## Concluding observations and algorithm analysis\n",
    "\n",
    "In conclusion to this algorithmic analysis it would seem that overall the most consistent and reliable dist metric for the K_Means model is difficult to determine. Each of these metrics had tests that they appeared to be the best at; euclidean dist did the best in regard to the SSE metric both overall and with respect to the majority of the stop conditions, meanwhile jaccard had the best accuracy score when compared to the label set while euclidean had the lowest accuracy score. The cosine dist metric seems to be a sort of compensation between the two with an overall SSE better than jaccard but worse than euclidean and accuracy being better than euclidean but worse than jaccard.\n",
    "\n",
    "In the future other dist metrics such as manhattan dist will have to be tested on the data set to see if any better performance can be obtained. Other methods than the one used here for determining the initial clusters will likely also help improve the performance of this model since initial centroids could be selected in strategic poss rather than just using a random point in the data set."
   ]
  },
  {
   "cell_type": "code",
   "execution_count": null,
   "id": "3ec13358",
   "metadata": {
    "papermill": {
     "duration": 0.010451,
     "end_time": "2022-11-22T16:48:53.037496",
     "exception": false,
     "start_time": "2022-11-22T16:48:53.027045",
     "status": "completed"
    },
    "tags": []
   },
   "outputs": [],
   "source": []
  }
 ],
 "metadata": {
  "kernelspec": {
   "display_name": "Python 3",
   "language": "python",
   "name": "python3"
  },
  "language_info": {
   "codemirror_mode": {
    "name": "ipython",
    "version": 3
   },
   "file_extension": ".py",
   "mimetype": "text/x-python",
   "name": "python",
   "nbconvert_exporter": "python",
   "pygments_lexer": "ipython3",
   "version": "3.7.12"
  },
  "papermill": {
   "default_parameters": {},
   "duration": 4927.751955,
   "end_time": "2022-11-22T16:48:53.779021",
   "environment_variables": {},
   "exception": null,
   "input_path": "__notebook__.ipynb",
   "output_path": "__notebook__.ipynb",
   "parameters": {},
   "start_time": "2022-11-22T15:26:46.027066",
   "version": "2.3.4"
  }
 },
 "nbformat": 4,
 "nbformat_minor": 5
}
